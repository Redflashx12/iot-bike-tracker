{
 "cells": [
  {
   "cell_type": "code",
   "execution_count": null,
   "outputs": [],
   "source": [
    "!pip install python-dotenv"
   ],
   "metadata": {
    "collapsed": false
   },
   "id": "ddb8eeeb94dbfbf1"
  },
  {
   "cell_type": "code",
   "execution_count": null,
   "outputs": [],
   "source": [
    "!pip list"
   ],
   "metadata": {
    "collapsed": false
   },
   "id": "43157f812b9c1053"
  },
  {
   "cell_type": "code",
   "execution_count": null,
   "id": "initial_id",
   "metadata": {
    "collapsed": true
   },
   "outputs": [],
   "source": [
    "import requests\n",
    "from dotenv import load_dotenv\n",
    "import os\n",
    "\n",
    "load_dotenv()"
   ]
  },
  {
   "cell_type": "code",
   "execution_count": null,
   "outputs": [],
   "source": [
    "os.getenv('X-API-Key')"
   ],
   "metadata": {
    "collapsed": false
   },
   "id": "ff3afed6c6d4dbdd"
  },
  {
   "cell_type": "code",
   "execution_count": null,
   "outputs": [],
   "source": [
    "def fetch_data(url, api_key):\n",
    "    headers = {'X-API-Key': api_key}\n",
    "    response = requests.get(url, headers=headers)\n",
    "    response.raise_for_status()  # This will raise an exception for HTTP errors\n",
    "\n",
    "    total_pages = response.headers.get('X-Total-Pages', 1)  # Default to 1 if the header is not found\n",
    "    return response.json(), int(total_pages)\n",
    "\n",
    "def extract_payload_and_time(data):\n",
    "    return [(entry['payload'], entry['rx_metadata'][0].get('received_at')) for entry in data]\n",
    "\n",
    "\n",
    "def main():\n",
    "    base_url = os.getenv('BASE_URL')\n",
    "    api_key = os.getenv('X-API-Key')      \n",
    "    all_data = []\n",
    "    \n",
    "    # Fetch data from the first page to get the total number of pages\n",
    "    first_page_url = base_url + '1'\n",
    "    first_page_data, total_pages = fetch_data(first_page_url, api_key)\n",
    "    all_data.extend(extract_payload_and_time(first_page_data))\n",
    "\n",
    "    # Fetch data from the remaining pages\n",
    "    for page in range(2, total_pages + 1):\n",
    "        url = base_url + str(page)\n",
    "        data, _ = fetch_data(url, api_key)\n",
    "        all_data.extend(extract_payload_and_time(data))\n",
    "\n",
    "    return all_data"
   ],
   "metadata": {
    "collapsed": false
   },
   "id": "71b42bee5187237a"
  },
  {
   "cell_type": "code",
   "execution_count": null,
   "outputs": [],
   "source": [
    "all_data = main()\n",
    "all_data"
   ],
   "metadata": {
    "collapsed": false
   },
   "id": "5cb026415b894ea4"
  },
  {
   "cell_type": "code",
   "execution_count": null,
   "outputs": [],
   "source": [
    "import json"
   ],
   "metadata": {
    "collapsed": false
   },
   "id": "e10b9a5a23b52945"
  },
  {
   "cell_type": "code",
   "execution_count": null,
   "outputs": [],
   "source": [
    "# Specify the filename\n",
    "filename = 'globalsat_lt501e.json'\n",
    "\n",
    "# Writing to a JSON file\n",
    "with open(filename, 'w') as file:\n",
    "    json.dump(all_data, file, indent=4)\n",
    "\n",
    "print(f\"Data has been exported to {filename}\")"
   ],
   "metadata": {
    "collapsed": false
   },
   "id": "a7660d3f524ba1c3"
  },
  {
   "cell_type": "code",
   "execution_count": null,
   "outputs": [],
   "source": [
    "all_data[0][1]"
   ],
   "metadata": {
    "collapsed": false
   },
   "id": "2fcf7fd4c3d1e65c"
  },
  {
   "cell_type": "code",
   "execution_count": null,
   "outputs": [],
   "source": [
    "import base64\n",
    "\n",
    "# Example base64 encoded string\n",
    "encoded_value = all_data[0][0]\n",
    "\n",
    "# Decode the base64 encoded string\n",
    "decoded_value = base64.b64decode(encoded_value)\n",
    "decoded_value.hex()"
   ],
   "metadata": {
    "collapsed": false
   },
   "id": "7a3c9ba7ba9d6cd8"
  },
  {
   "cell_type": "code",
   "execution_count": null,
   "outputs": [],
   "source": [
    "from parser.parser_globalsat_lt501e import LT501Parser\n",
    "\n",
    "parser = LT501Parser(debug_level=99)\n",
    "output = parser.parse_bytes_hex(decoded_value.hex())\n",
    "output\n",
    "print(output)\n",
    "print(output['lat'])"
   ],
   "metadata": {
    "collapsed": false
   },
   "id": "a54daeec1032ae8b"
  },
  {
   "cell_type": "code",
   "execution_count": null,
   "outputs": [],
   "source": [
    "import base64\n",
    "from parser.parser_globalsat_lt501e import LT501Parser\n",
    "\n",
    "# Initialize the parser\n",
    "parser = LT501Parser(debug_level=99)\n",
    "\n",
    "# List to hold the parsed data\n",
    "parsed_data = []\n",
    "\n",
    "for encoded_value, time in all_data:\n",
    "    # Decode the base64 encoded string\n",
    "    decoded_value = base64.b64decode(encoded_value)\n",
    "\n",
    "    # Use the parser to parse the decoded data\n",
    "    parsed_entry = parser.parse_bytes_hex(decoded_value.hex())\n",
    "    if 'lon' in parsed_entry and 'lat' in parsed_entry:\n",
    "        \n",
    "        # Append the parsed data in the required format\n",
    "        parsed_data.append({\n",
    "            'coordinates': [parsed_entry['lon'], parsed_entry['lat']],\n",
    "            'time': time\n",
    "        })\n",
    "    else:\n",
    "        print(f\"Missing 'lon' or 'lat' in entry: {parsed_entry}\")\n",
    "        continue    \n",
    "    \n",
    "parsed_data"
   ],
   "metadata": {
    "collapsed": false
   },
   "id": "4eea18ccf3685562"
  },
  {
   "cell_type": "code",
   "execution_count": null,
   "outputs": [],
   "source": [
    "from map.plot_gps_history import create_geojson_features\n",
    "import folium\n",
    "from folium.plugins import TimestampedGeoJson\n",
    "\n",
    "# Create map object\n",
    "m = folium.Map(location=parsed_data[0]['coordinates'], zoom_start=3)\n",
    "\n",
    "# Create features\n",
    "features = create_geojson_features(parsed_data)\n",
    "\n",
    "# Create a TimestampedGeoJson object and add it to the map\n",
    "TimestampedGeoJson({\n",
    "    'type': 'FeatureCollection',\n",
    "    'features': features,\n",
    "}, period='PT1M',\n",
    "    transition_time=1000,\n",
    "    auto_play=False,\n",
    "    loop=False,\n",
    "    max_speed=1,\n",
    "    loop_button=True,\n",
    "    date_options='YYYY/MM/DD HH:mm:ss',\n",
    "    time_slider_drag_update=True,\n",
    "    add_last_point=True).add_to(m)\n",
    "\n",
    "# Save to an HTML file\n",
    "m.save('my_animated_map.html')\n",
    "\n",
    "print(\"Map has been saved to my_animated_map.html\")\n"
   ],
   "metadata": {
    "collapsed": false
   },
   "id": "c823353c05d3733a"
  }
 ],
 "metadata": {
  "kernelspec": {
   "name": "python3",
   "language": "python",
   "display_name": "Python 3"
  },
  "language_info": {
   "codemirror_mode": {
    "name": "ipython",
    "version": 2
   },
   "file_extension": ".py",
   "mimetype": "text/x-python",
   "name": "python",
   "nbconvert_exporter": "python",
   "pygments_lexer": "ipython2",
   "version": "2.7.6"
  }
 },
 "nbformat": 4,
 "nbformat_minor": 5
}
