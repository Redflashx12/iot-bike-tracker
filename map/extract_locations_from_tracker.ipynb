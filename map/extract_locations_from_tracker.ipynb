{
 "cells": [
  {
   "cell_type": "code",
   "execution_count": 1,
   "outputs": [],
   "source": [
    "# !pip install python-dotenv"
   ],
   "metadata": {
    "collapsed": false,
    "ExecuteTime": {
     "end_time": "2023-11-27T12:23:17.498583600Z",
     "start_time": "2023-11-27T12:23:17.478630500Z"
    }
   },
   "id": "ddb8eeeb94dbfbf1"
  },
  {
   "cell_type": "code",
   "execution_count": 2,
   "id": "initial_id",
   "metadata": {
    "collapsed": true,
    "ExecuteTime": {
     "end_time": "2023-11-27T12:23:17.606248400Z",
     "start_time": "2023-11-27T12:23:17.505560500Z"
    }
   },
   "outputs": [
    {
     "data": {
      "text/plain": "True"
     },
     "execution_count": 2,
     "metadata": {},
     "output_type": "execute_result"
    }
   ],
   "source": [
    "import requests\n",
    "from dotenv import load_dotenv\n",
    "import os\n",
    "\n",
    "load_dotenv()"
   ]
  },
  {
   "cell_type": "code",
   "execution_count": 3,
   "outputs": [],
   "source": [
    "def fetch_data(url, api_key):\n",
    "    headers = {'X-API-Key': api_key}\n",
    "    response = requests.get(url, headers=headers)\n",
    "    response.raise_for_status()  # This will raise an exception for HTTP errors\n",
    "\n",
    "    total_pages = response.headers.get('X-Total-Pages', 1)  # Default to 1 if the header is not found\n",
    "    return response.json(), int(total_pages)\n",
    "\n",
    "def extract_payload_and_time(data):\n",
    "    return [(entry['payload'], entry['rx_metadata'][0].get('received_at')) for entry in data]\n",
    "\n",
    "\n",
    "def main():\n",
    "    base_url = os.getenv('BASE_URL')\n",
    "    api_key = os.getenv('X-API-Key')      \n",
    "    all_data = []\n",
    "    \n",
    "    # Fetch data from the first page to get the total number of pages\n",
    "    first_page_url = base_url + '1'\n",
    "    first_page_data, total_pages = fetch_data(first_page_url, api_key)\n",
    "    all_data.extend(extract_payload_and_time(first_page_data))\n",
    "\n",
    "    # Fetch data from the remaining pages\n",
    "    for page in range(2, total_pages + 1):\n",
    "        url = base_url + str(page)\n",
    "        data, _ = fetch_data(url, api_key)\n",
    "        all_data.extend(extract_payload_and_time(data))\n",
    "\n",
    "    return all_data"
   ],
   "metadata": {
    "collapsed": false,
    "ExecuteTime": {
     "end_time": "2023-11-27T12:23:17.622068800Z",
     "start_time": "2023-11-27T12:23:17.609223300Z"
    }
   },
   "id": "71b42bee5187237a"
  },
  {
   "cell_type": "code",
   "execution_count": 4,
   "outputs": [],
   "source": [
    "load = True\n",
    "if not load:\n",
    "    all_data = main()\n",
    "    all_data"
   ],
   "metadata": {
    "collapsed": false,
    "ExecuteTime": {
     "end_time": "2023-11-27T12:23:17.641054Z",
     "start_time": "2023-11-27T12:23:17.620066Z"
    }
   },
   "id": "5cb026415b894ea4"
  },
  {
   "cell_type": "code",
   "execution_count": 5,
   "outputs": [],
   "source": [
    "import json"
   ],
   "metadata": {
    "collapsed": false,
    "ExecuteTime": {
     "end_time": "2023-11-27T12:23:17.652199900Z",
     "start_time": "2023-11-27T12:23:17.636081400Z"
    }
   },
   "id": "e10b9a5a23b52945"
  },
  {
   "cell_type": "code",
   "execution_count": 6,
   "outputs": [],
   "source": [
    "filename = 'globalsat_lt501e.json'\n",
    "\n",
    "if not load:\n",
    "    # Writing to a JSON file\n",
    "    with open(filename, 'w') as file:\n",
    "        json.dump(all_data, file, indent=4)\n",
    "    \n",
    "    print(f\"Data has been exported to {filename}\")\n",
    "else:\n",
    "    # Reading from a JSON file\n",
    "    with open(filename) as file:\n",
    "        all_data = json.load(file)"
   ],
   "metadata": {
    "collapsed": false,
    "ExecuteTime": {
     "end_time": "2023-11-27T12:23:17.678104700Z",
     "start_time": "2023-11-27T12:23:17.650181700Z"
    }
   },
   "id": "a7660d3f524ba1c3"
  },
  {
   "cell_type": "code",
   "execution_count": 7,
   "outputs": [
    {
     "data": {
      "text/plain": "['DBACkQOYAIDG9wITBekDTGU=', '2023-11-08T21:56:42.742723187Z']"
     },
     "execution_count": 7,
     "metadata": {},
     "output_type": "execute_result"
    }
   ],
   "source": [
    "all_data[0]"
   ],
   "metadata": {
    "collapsed": false,
    "ExecuteTime": {
     "end_time": "2023-11-27T12:23:17.682595Z",
     "start_time": "2023-11-27T12:23:17.667648Z"
    }
   },
   "id": "2fcf7fd4c3d1e65c"
  },
  {
   "cell_type": "code",
   "execution_count": 8,
   "outputs": [
    {
     "data": {
      "text/plain": "'0c10029103980080c6f7021305e9034c65'"
     },
     "execution_count": 8,
     "metadata": {},
     "output_type": "execute_result"
    }
   ],
   "source": [
    "import base64\n",
    "\n",
    "# Example base64 encoded string\n",
    "encoded_value = all_data[0][0]\n",
    "\n",
    "# Decode the base64 encoded string\n",
    "decoded_value = base64.b64decode(encoded_value)\n",
    "decoded_value.hex()"
   ],
   "metadata": {
    "collapsed": false,
    "ExecuteTime": {
     "end_time": "2023-11-27T12:23:17.698059700Z",
     "start_time": "2023-11-27T12:23:17.682595Z"
    }
   },
   "id": "7a3c9ba7ba9d6cd8"
  },
  {
   "cell_type": "code",
   "execution_count": 9,
   "outputs": [
    {
     "name": "stdout",
     "output_type": "stream",
     "text": [
      "{'version': 12, 'command_id': 4098, 'lon': 9.962385, 'lat': 49.79264, 'gps_fix': 0, 'report_type': 19, 'batt': 5, 'timestamp': 1699480553}\n",
      "49.79264\n"
     ]
    }
   ],
   "source": [
    "from parser.parser_globalsat_lt501e import LT501Parser\n",
    "\n",
    "parser = LT501Parser(debug_level=99)\n",
    "output = parser.parse_bytes_hex(decoded_value.hex())\n",
    "output\n",
    "print(output)\n",
    "print(output['lat'])"
   ],
   "metadata": {
    "collapsed": false,
    "ExecuteTime": {
     "end_time": "2023-11-27T12:23:17.748002400Z",
     "start_time": "2023-11-27T12:23:17.699050700Z"
    }
   },
   "id": "a54daeec1032ae8b"
  },
  {
   "cell_type": "code",
   "execution_count": 19,
   "outputs": [
    {
     "name": "stdout",
     "output_type": "stream",
     "text": [
      "Missing 'lon' or 'lat' or 'batt' in entry: {'version': 12, 'command_id': 4866, 'beacon_id': '74278bdab64445208f0c720eaf05993500003e1c', 'beacon_type': 1, 'report_type': 2, 'rssi': 196, 'tx_power': 197, 'batt': 30}\n",
      "Missing 'lon' or 'lat' or 'batt' in entry: {'version': 12, 'command_id': 4866, 'beacon_id': '74278bdab64445208f0c720eaf05993500007822', 'beacon_type': 1, 'report_type': 2, 'rssi': 165, 'tx_power': 197, 'batt': 55}\n"
     ]
    },
    {
     "data": {
      "text/plain": "[{'coordinates': [9.962385, 49.79264],\n  'time': 1699480602.742723,\n  'battery': 5},\n {'coordinates': [9.962385, 49.79264],\n  'time': 1699480554.774553,\n  'battery': 5},\n {'coordinates': [9.962385, 49.79264],\n  'time': 1699480494.773257,\n  'battery': 5},\n {'coordinates': [9.962385, 49.79264],\n  'time': 1699480434.769403,\n  'battery': 5},\n {'coordinates': [9.962385, 49.79264],\n  'time': 1699480374.746879,\n  'battery': 5},\n {'coordinates': [9.962385, 49.79264],\n  'time': 1699480314.748187,\n  'battery': 5},\n {'coordinates': [9.962385, 49.79264],\n  'time': 1699480254.743505,\n  'battery': 5},\n {'coordinates': [9.962385, 49.79264], 'time': 1699480194.75038, 'battery': 5},\n {'coordinates': [9.962385, 49.79264], 'time': 1699480134.73844, 'battery': 5},\n {'coordinates': [9.962385, 49.79264],\n  'time': 1699480074.721396,\n  'battery': 5},\n {'coordinates': [9.96231, 49.792727],\n  'time': 1699480014.764646,\n  'battery': 5},\n {'coordinates': [9.96231, 49.792727],\n  'time': 1699479954.741844,\n  'battery': 5},\n {'coordinates': [9.96231, 49.792727],\n  'time': 1699479894.738346,\n  'battery': 5},\n {'coordinates': [9.96231, 49.792727],\n  'time': 1699479834.722787,\n  'battery': 5},\n {'coordinates': [9.96231, 49.792727],\n  'time': 1699479774.720123,\n  'battery': 5},\n {'coordinates': [9.96231, 49.792727],\n  'time': 1699479714.714332,\n  'battery': 5},\n {'coordinates': [9.96231, 49.792727],\n  'time': 1699479654.712269,\n  'battery': 5},\n {'coordinates': [9.962467, 49.792787],\n  'time': 1699479594.71176,\n  'battery': 5},\n {'coordinates': [9.963305, 49.7928], 'time': 1699479534.710348, 'battery': 5},\n {'coordinates': [9.963305, 49.7928], 'time': 1699479474.70284, 'battery': 5},\n {'coordinates': [9.963305, 49.7928], 'time': 1699479414.712526, 'battery': 5},\n {'coordinates': [9.962728, 49.79287],\n  'time': 1699479354.697562,\n  'battery': 5},\n {'coordinates': [9.963472, 49.79276],\n  'time': 1699479294.699555,\n  'battery': 5},\n {'coordinates': [9.963552, 49.79287],\n  'time': 1699479234.684329,\n  'battery': 5},\n {'coordinates': [9.962172, 49.792897],\n  'time': 1699479174.704295,\n  'battery': 5},\n {'coordinates': [9.962923, 49.79279], 'time': 1699479114.66803, 'battery': 5},\n {'coordinates': [9.962213, 49.79286],\n  'time': 1699479054.693526,\n  'battery': 5},\n {'coordinates': [9.962213, 49.79286],\n  'time': 1699478994.706624,\n  'battery': 5},\n {'coordinates': [9.962213, 49.79286],\n  'time': 1699478934.719921,\n  'battery': 5},\n {'coordinates': [9.962213, 49.79286],\n  'time': 1699478874.713879,\n  'battery': 5},\n {'coordinates': [9.962522, 49.792813],\n  'time': 1699478814.701298,\n  'battery': 5},\n {'coordinates': [9.962522, 49.792813],\n  'time': 1699478754.718183,\n  'battery': 5},\n {'coordinates': [9.962522, 49.792813],\n  'time': 1699478694.69965,\n  'battery': 5},\n {'coordinates': [9.962522, 49.792813],\n  'time': 1699478634.701524,\n  'battery': 5},\n {'coordinates': [9.962522, 49.792813],\n  'time': 1699478574.725953,\n  'battery': 5},\n {'coordinates': [9.962465, 49.79281],\n  'time': 1699478514.726939,\n  'battery': 5},\n {'coordinates': [9.961373, 49.792967],\n  'time': 1699478454.727268,\n  'battery': 5},\n {'coordinates': [9.961373, 49.792967],\n  'time': 1699478394.732759,\n  'battery': 5},\n {'coordinates': [9.961373, 49.792967],\n  'time': 1699478334.712873,\n  'battery': 5},\n {'coordinates': [9.961373, 49.792967],\n  'time': 1699478274.723894,\n  'battery': 5},\n {'coordinates': [9.961373, 49.792967],\n  'time': 1699478214.709323,\n  'battery': 5},\n {'coordinates': [9.961373, 49.792967],\n  'time': 1699478154.710766,\n  'battery': 5},\n {'coordinates': [9.961373, 49.792967],\n  'time': 1699478094.718587,\n  'battery': 5},\n {'coordinates': [9.961373, 49.79297],\n  'time': 1699478034.702296,\n  'battery': 5},\n {'coordinates': [9.961952, 49.792887],\n  'time': 1699477974.703736,\n  'battery': 5},\n {'coordinates': [9.961952, 49.792887],\n  'time': 1699477914.691491,\n  'battery': 5},\n {'coordinates': [9.962312, 49.792917],\n  'time': 1699477854.683338,\n  'battery': 5},\n {'coordinates': [9.962603, 49.792902],\n  'time': 1699477794.68148,\n  'battery': 5},\n {'coordinates': [9.962368, 49.792747],\n  'time': 1699477734.664742,\n  'battery': 5},\n {'coordinates': [9.962368, 49.792753],\n  'time': 1699477674.637001,\n  'battery': 5},\n {'coordinates': [9.96142, 49.792858],\n  'time': 1699477614.631032,\n  'battery': 5},\n {'coordinates': [9.961857, 49.792797],\n  'time': 1699477554.608789,\n  'battery': 5},\n {'coordinates': [9.961578, 49.792933],\n  'time': 1699477494.61595,\n  'battery': 5},\n {'coordinates': [9.961872, 49.792948],\n  'time': 1699477435.613295,\n  'battery': 5},\n {'coordinates': [9.961752, 49.792863],\n  'time': 1699477375.601566,\n  'battery': 5},\n {'coordinates': [9.9629, 49.792853], 'time': 1699477315.609956, 'battery': 5},\n {'coordinates': [9.962133, 49.792782],\n  'time': 1699477255.609358,\n  'battery': 5},\n {'coordinates': [9.963238, 49.792873],\n  'time': 1699477195.600954,\n  'battery': 5},\n {'coordinates': [9.963238, 49.792873],\n  'time': 1699477135.623259,\n  'battery': 5},\n {'coordinates': [9.96459, 49.792833],\n  'time': 1699477075.61043,\n  'battery': 10},\n {'coordinates': [9.96459, 49.792833],\n  'time': 1699477015.616573,\n  'battery': 10},\n {'coordinates': [9.96459, 49.792833],\n  'time': 1699476955.611091,\n  'battery': 10},\n {'coordinates': [9.96459, 49.792832],\n  'time': 1699476895.600133,\n  'battery': 10},\n {'coordinates': [9.963058, 49.79304],\n  'time': 1699476835.603137,\n  'battery': 10},\n {'coordinates': [9.963058, 49.79304],\n  'time': 1699476775.593607,\n  'battery': 10},\n {'coordinates': [9.963058, 49.79304],\n  'time': 1699476715.62087,\n  'battery': 10},\n {'coordinates': [9.963058, 49.79304],\n  'time': 1699476655.610826,\n  'battery': 10},\n {'coordinates': [9.963058, 49.793043],\n  'time': 1699476595.617215,\n  'battery': 10},\n {'coordinates': [9.963208, 49.793058],\n  'time': 1699476535.599614,\n  'battery': 10},\n {'coordinates': [9.962543, 49.79266],\n  'time': 1699476475.599435,\n  'battery': 10},\n {'coordinates': [9.962545, 49.792655],\n  'time': 1699476415.574403,\n  'battery': 10},\n {'coordinates': [9.962498, 49.79286],\n  'time': 1699476355.577143,\n  'battery': 10},\n {'coordinates': [9.9625, 49.792863],\n  'time': 1699476295.567741,\n  'battery': 10},\n {'coordinates': [9.962783, 49.793038],\n  'time': 1699476235.522861,\n  'battery': 10},\n {'coordinates': [9.96182, 49.792795],\n  'time': 1699476175.516173,\n  'battery': 10},\n {'coordinates': [9.961223, 49.792537],\n  'time': 1699476115.4931,\n  'battery': 10},\n {'coordinates': [9.962157, 49.79292],\n  'time': 1699476055.488528,\n  'battery': 10},\n {'coordinates': [9.962157, 49.79292],\n  'time': 1699475995.483971,\n  'battery': 10},\n {'coordinates': [9.962157, 49.792918],\n  'time': 1699475935.483768,\n  'battery': 10},\n {'coordinates': [9.96174, 49.792747],\n  'time': 1699475875.462668,\n  'battery': 10},\n {'coordinates': [9.962567, 49.792882],\n  'time': 1699475815.444489,\n  'battery': 10},\n {'coordinates': [9.963037, 49.792812],\n  'time': 1699475755.433222,\n  'battery': 10},\n {'coordinates': [9.963197, 49.792843],\n  'time': 1699475695.431225,\n  'battery': 10},\n {'coordinates': [9.962923, 49.792727],\n  'time': 1699475635.402199,\n  'battery': 10},\n {'coordinates': [9.962475, 49.792922],\n  'time': 1699475575.374722,\n  'battery': 10},\n {'coordinates': [9.963153, 49.792783],\n  'time': 1699475515.352411,\n  'battery': 10},\n {'coordinates': [9.96274, 49.79269],\n  'time': 1699475455.347978,\n  'battery': 10},\n {'coordinates': [9.962643, 49.79289],\n  'time': 1699475395.330548,\n  'battery': 10},\n {'coordinates': [9.962838, 49.792773],\n  'time': 1699475335.309918,\n  'battery': 10},\n {'coordinates': [9.962742, 49.792952],\n  'time': 1699475275.291952,\n  'battery': 10},\n {'coordinates': [9.962567, 49.79286],\n  'time': 1699475215.275272,\n  'battery': 10},\n {'coordinates': [9.96302, 49.792962],\n  'time': 1699475155.279857,\n  'battery': 10},\n {'coordinates': [9.963005, 49.792953],\n  'time': 1699475095.260953,\n  'battery': 10},\n {'coordinates': [9.9632, 49.792808],\n  'time': 1699475035.258742,\n  'battery': 10},\n {'coordinates': [9.962745, 49.792998],\n  'time': 1699474975.229145,\n  'battery': 10},\n {'coordinates': [9.962872, 49.793058],\n  'time': 1699474915.236588,\n  'battery': 10},\n {'coordinates': [9.963303, 49.792918],\n  'time': 1699474855.209494,\n  'battery': 10},\n {'coordinates': [9.962838, 49.793058],\n  'time': 1699474795.21291,\n  'battery': 10},\n {'coordinates': [9.96291, 49.793135],\n  'time': 1699474735.202732,\n  'battery': 10},\n {'coordinates': [9.962902, 49.79294],\n  'time': 1699474675.192538,\n  'battery': 10},\n {'coordinates': [9.963135, 49.792908],\n  'time': 1699474615.177116,\n  'battery': 10},\n {'coordinates': [9.962892, 49.792875],\n  'time': 1699474555.158973,\n  'battery': 10},\n {'coordinates': [9.962793, 49.792983],\n  'time': 1699474495.147625,\n  'battery': 10},\n {'coordinates': [9.962665, 49.793087],\n  'time': 1699474435.235362,\n  'battery': 10},\n {'coordinates': [9.962972, 49.792965],\n  'time': 1699474375.134403,\n  'battery': 10},\n {'coordinates': [9.962825, 49.79284],\n  'time': 1699474315.110796,\n  'battery': 10},\n {'coordinates': [9.962877, 49.792985],\n  'time': 1699474255.052679,\n  'battery': 10},\n {'coordinates': [9.963233, 49.793063],\n  'time': 1699474195.026842,\n  'battery': 10},\n {'coordinates': [9.963147, 49.79298],\n  'time': 1699474135.012128,\n  'battery': 10},\n {'coordinates': [9.963513, 49.792747],\n  'time': 1699474075.003429,\n  'battery': 10},\n {'coordinates': [9.962485, 49.792938],\n  'time': 1699474014.995131,\n  'battery': 10},\n {'coordinates': [9.96303, 49.792957],\n  'time': 1699473954.987969,\n  'battery': 10},\n {'coordinates': [9.963255, 49.79304],\n  'time': 1699473894.950345,\n  'battery': 10},\n {'coordinates': [9.963038, 49.793015],\n  'time': 1699473834.915844,\n  'battery': 10},\n {'coordinates': [9.963052, 49.793068],\n  'time': 1699473774.913643,\n  'battery': 10},\n {'coordinates': [9.963303, 49.792985],\n  'time': 1699473714.909866,\n  'battery': 15},\n {'coordinates': [9.963215, 49.792923],\n  'time': 1699473654.897942,\n  'battery': 15},\n {'coordinates': [9.962937, 49.793038],\n  'time': 1699473594.888179,\n  'battery': 15},\n {'coordinates': [9.96313, 49.79293],\n  'time': 1699473534.862526,\n  'battery': 15},\n {'coordinates': [8.96668, 49.784467],\n  'time': 1699473474.870181,\n  'battery': 15},\n {'coordinates': [9.962817, 49.792738],\n  'time': 1699473414.835557,\n  'battery': 15},\n {'coordinates': [9.963328, 49.792907],\n  'time': 1699473354.824648,\n  'battery': 15},\n {'coordinates': [9.96303, 49.792785],\n  'time': 1699473294.813171,\n  'battery': 15},\n {'coordinates': [9.963238, 49.792847],\n  'time': 1699473234.798182,\n  'battery': 15},\n {'coordinates': [9.963528, 49.792968],\n  'time': 1699473175.793894,\n  'battery': 15},\n {'coordinates': [9.963257, 49.792678],\n  'time': 1699473115.788292,\n  'battery': 15},\n {'coordinates': [9.962798, 49.792928],\n  'time': 1699473055.752749,\n  'battery': 15},\n {'coordinates': [9.962713, 49.792963],\n  'time': 1699472995.742932,\n  'battery': 15},\n {'coordinates': [9.963023, 49.793018],\n  'time': 1699472935.743588,\n  'battery': 15},\n {'coordinates': [9.962825, 49.793125],\n  'time': 1699472875.720623,\n  'battery': 15},\n {'coordinates': [9.962537, 49.792727],\n  'time': 1699472815.702645,\n  'battery': 15},\n {'coordinates': [9.963142, 49.792667],\n  'time': 1699472755.716331,\n  'battery': 15},\n {'coordinates': [9.963142, 49.792667],\n  'time': 1699472695.706301,\n  'battery': 15},\n {'coordinates': [9.963142, 49.792672],\n  'time': 1699472635.6932,\n  'battery': 15},\n {'coordinates': [9.962755, 49.792887],\n  'time': 1699472575.682906,\n  'battery': 15},\n {'coordinates': [9.962792, 49.792948],\n  'time': 1699472515.673273,\n  'battery': 15},\n {'coordinates': [9.962785, 49.793035],\n  'time': 1699472455.668435,\n  'battery': 15},\n {'coordinates': [9.963038, 49.792877],\n  'time': 1699472395.647619,\n  'battery': 15},\n {'coordinates': [9.962813, 49.792953],\n  'time': 1699472335.651924,\n  'battery': 15},\n {'coordinates': [9.962813, 49.792948],\n  'time': 1699472275.646674,\n  'battery': 15},\n {'coordinates': [9.963292, 49.792688],\n  'time': 1699472215.624329,\n  'battery': 15},\n {'coordinates': [9.963013, 49.792985],\n  'time': 1699472155.613412,\n  'battery': 15},\n {'coordinates': [9.962673, 49.792932],\n  'time': 1699472095.602728,\n  'battery': 15},\n {'coordinates': [9.962572, 49.793075],\n  'time': 1699472035.579412,\n  'battery': 15},\n {'coordinates': [9.962797, 49.79306],\n  'time': 1699471975.580809,\n  'battery': 15},\n {'coordinates': [9.962708, 49.793087],\n  'time': 1699471915.580238,\n  'battery': 15},\n {'coordinates': [9.963137, 49.793232],\n  'time': 1699471855.576704,\n  'battery': 15},\n {'coordinates': [9.962807, 49.792772],\n  'time': 1699471795.547163,\n  'battery': 15},\n {'coordinates': [9.9627, 49.792688],\n  'time': 1699471735.538549,\n  'battery': 15},\n {'coordinates': [9.962898, 49.792658],\n  'time': 1699471675.510505,\n  'battery': 15},\n {'coordinates': [9.962935, 49.792822],\n  'time': 1699471615.493151,\n  'battery': 15},\n {'coordinates': [9.963002, 49.792825],\n  'time': 1699471555.477725,\n  'battery': 15},\n {'coordinates': [9.962847, 49.792873],\n  'time': 1699471495.487112,\n  'battery': 15},\n {'coordinates': [9.962552, 49.792712],\n  'time': 1699471435.491548,\n  'battery': 15},\n {'coordinates': [9.962693, 49.792872],\n  'time': 1699471375.474157,\n  'battery': 15},\n {'coordinates': [9.961995, 49.792813],\n  'time': 1699471315.446849,\n  'battery': 15},\n {'coordinates': [9.963045, 49.792947],\n  'time': 1699471255.444537,\n  'battery': 15},\n {'coordinates': [9.962762, 49.792787],\n  'time': 1699471195.441197,\n  'battery': 15},\n {'coordinates': [9.960268, 49.792358],\n  'time': 1699471135.465862,\n  'battery': 15},\n {'coordinates': [9.962762, 49.792787],\n  'time': 1699471075.442886,\n  'battery': 15},\n {'coordinates': [9.96282, 49.792953],\n  'time': 1699471015.445811,\n  'battery': 15},\n {'coordinates': [9.962565, 49.792685],\n  'time': 1699470955.437077,\n  'battery': 15},\n {'coordinates': [9.962967, 49.793563],\n  'time': 1699470895.418274,\n  'battery': 15},\n {'coordinates': [9.962027, 49.792602],\n  'time': 1699470835.404631,\n  'battery': 15},\n {'coordinates': [9.962782, 49.792707],\n  'time': 1699470775.387609,\n  'battery': 15},\n {'coordinates': [9.96271, 49.792812],\n  'time': 1699470715.390534,\n  'battery': 15},\n {'coordinates': [9.962887, 49.792985],\n  'time': 1699470655.356669,\n  'battery': 15},\n {'coordinates': [9.96282, 49.79282],\n  'time': 1699470595.365636,\n  'battery': 15},\n {'coordinates': [9.962945, 49.79307],\n  'time': 1699470535.337341,\n  'battery': 15},\n {'coordinates': [9.961788, 49.79236],\n  'time': 1699470475.34602,\n  'battery': 15},\n {'coordinates': [9.96346, 49.793032],\n  'time': 1699470415.338794,\n  'battery': 15},\n {'coordinates': [9.963652, 49.793032],\n  'time': 1699470355.323298,\n  'battery': 15},\n {'coordinates': [9.962557, 49.792698],\n  'time': 1699470295.309539,\n  'battery': 15},\n {'coordinates': [9.962287, 49.793195],\n  'time': 1699470235.312532,\n  'battery': 15},\n {'coordinates': [9.963225, 49.79308],\n  'time': 1699470175.315328,\n  'battery': 15},\n {'coordinates': [9.963225, 49.793082],\n  'time': 1699470115.295601,\n  'battery': 15},\n {'coordinates': [9.96366, 49.792993],\n  'time': 1699470055.291783,\n  'battery': 15},\n {'coordinates': [9.96366, 49.792993],\n  'time': 1699469995.298064,\n  'battery': 15},\n {'coordinates': [9.963278, 49.792713],\n  'time': 1699469935.300793,\n  'battery': 15},\n {'coordinates': [9.964047, 49.793273],\n  'time': 1699469875.286612,\n  'battery': 15},\n {'coordinates': [9.96271, 49.79336],\n  'time': 1699469815.286575,\n  'battery': 15},\n {'coordinates': [9.96271, 49.79336],\n  'time': 1699469755.283091,\n  'battery': 15},\n {'coordinates': [9.96271, 49.79336], 'time': 1699469695.27438, 'battery': 15},\n {'coordinates': [9.963078, 49.79313],\n  'time': 1699469635.26203,\n  'battery': 15},\n {'coordinates': [9.9626, 49.792613], 'time': 1699469575.25821, 'battery': 15},\n {'coordinates': [9.9626, 49.792613],\n  'time': 1699469515.272788,\n  'battery': 15},\n {'coordinates': [9.96332, 49.793098],\n  'time': 1699469455.258525,\n  'battery': 15},\n {'coordinates': [9.96361, 49.793085],\n  'time': 1699469395.253067,\n  'battery': 15},\n {'coordinates': [9.963883, 49.793433],\n  'time': 1699469335.231364,\n  'battery': 15},\n {'coordinates': [9.962103, 49.792778],\n  'time': 1699469275.217483,\n  'battery': 15},\n {'coordinates': [9.963237, 49.793027],\n  'time': 1699469215.218795,\n  'battery': 15},\n {'coordinates': [9.963237, 49.793023],\n  'time': 1699469155.209711,\n  'battery': 15},\n {'coordinates': [9.96279, 49.79304],\n  'time': 1699469095.179498,\n  'battery': 15},\n {'coordinates': [9.963383, 49.792985],\n  'time': 1699469035.167861,\n  'battery': 15},\n {'coordinates': [9.963618, 49.792887],\n  'time': 1699468975.166314,\n  'battery': 15},\n {'coordinates': [9.96228, 49.792667],\n  'time': 1699468915.156159,\n  'battery': 15},\n {'coordinates': [9.96228, 49.792667],\n  'time': 1699468855.17417,\n  'battery': 15},\n {'coordinates': [9.96228, 49.792667],\n  'time': 1699468795.147288,\n  'battery': 15},\n {'coordinates': [9.96228, 49.792667],\n  'time': 1699468735.15238,\n  'battery': 15},\n {'coordinates': [9.96228, 49.792667],\n  'time': 1699468675.151442,\n  'battery': 15},\n {'coordinates': [9.96228, 49.792667],\n  'time': 1699468615.137357,\n  'battery': 15},\n {'coordinates': [9.96228, 49.792667],\n  'time': 1699468555.128453,\n  'battery': 15},\n {'coordinates': [9.96228, 49.792667],\n  'time': 1699468495.105402,\n  'battery': 15},\n {'coordinates': [9.96228, 49.792667],\n  'time': 1699468436.089762,\n  'battery': 15},\n {'coordinates': [9.96228, 49.792667],\n  'time': 1699468376.085409,\n  'battery': 15},\n {'coordinates': [9.96228, 49.792667],\n  'time': 1699468316.075774,\n  'battery': 15},\n {'coordinates': [9.96228, 49.792667], 'time': 1699468256.0533, 'battery': 15},\n {'coordinates': [9.96228, 49.792667],\n  'time': 1699468196.048656,\n  'battery': 15},\n {'coordinates': [9.962742, 49.79314],\n  'time': 1699468136.056985,\n  'battery': 20},\n {'coordinates': [9.962742, 49.79314],\n  'time': 1699468076.041189,\n  'battery': 20},\n {'coordinates': [9.962742, 49.79314],\n  'time': 1699468016.040706,\n  'battery': 20},\n {'coordinates': [9.962742, 49.79314],\n  'time': 1699467956.023885,\n  'battery': 20},\n {'coordinates': [9.962278, 49.792738],\n  'time': 1699467896.037516,\n  'battery': 20},\n {'coordinates': [9.962723, 49.792867],\n  'time': 1699467836.007554,\n  'battery': 20},\n {'coordinates': [9.962797, 49.792657],\n  'time': 1699467775.986644,\n  'battery': 20},\n {'coordinates': [9.962282, 49.792598],\n  'time': 1699467715.971425,\n  'battery': 20},\n {'coordinates': [9.958063, 49.792177],\n  'time': 1699467655.980211,\n  'battery': 20},\n {'coordinates': [9.9625, 49.792433],\n  'time': 1699467595.959723,\n  'battery': 20},\n {'coordinates': [9.9625, 49.79243], 'time': 1699467535.960043, 'battery': 20},\n {'coordinates': [9.962013, 49.792743],\n  'time': 1699467475.934707,\n  'battery': 20},\n {'coordinates': [9.961692, 49.792653],\n  'time': 1699467415.938305,\n  'battery': 20},\n {'coordinates': [9.961692, 49.79265],\n  'time': 1699467355.939228,\n  'battery': 20},\n {'coordinates': [9.961822, 49.793035],\n  'time': 1699467295.92129,\n  'battery': 20},\n {'coordinates': [9.962303, 49.792753],\n  'time': 1699467235.904601,\n  'battery': 20},\n {'coordinates': [9.962972, 49.792973],\n  'time': 1699467175.901886,\n  'battery': 20},\n {'coordinates': [9.962218, 49.792788],\n  'time': 1699467115.890664,\n  'battery': 20},\n {'coordinates': [9.962385, 49.792968],\n  'time': 1699467055.868787,\n  'battery': 20},\n {'coordinates': [9.963045, 49.79282],\n  'time': 1699466995.853979,\n  'battery': 20},\n {'coordinates': [9.962583, 49.792928],\n  'time': 1699466935.842714,\n  'battery': 20},\n {'coordinates': [9.962338, 49.792807],\n  'time': 1699466875.835965,\n  'battery': 20},\n {'coordinates': [9.961995, 49.792762],\n  'time': 1699466815.831174,\n  'battery': 20},\n {'coordinates': [9.962422, 49.792768],\n  'time': 1699466755.8285,\n  'battery': 20},\n {'coordinates': [9.962043, 49.79297],\n  'time': 1699466695.811025,\n  'battery': 20},\n {'coordinates': [9.962032, 49.792807],\n  'time': 1699466635.800783,\n  'battery': 20},\n {'coordinates': [9.962315, 49.792807],\n  'time': 1699466575.788398,\n  'battery': 20},\n {'coordinates': [9.962265, 49.792797],\n  'time': 1699466515.78212,\n  'battery': 20},\n {'coordinates': [9.962607, 49.792748],\n  'time': 1699466455.753882,\n  'battery': 20},\n {'coordinates': [9.962202, 49.79295],\n  'time': 1699466395.741897,\n  'battery': 20},\n {'coordinates': [9.962472, 49.792782],\n  'time': 1699466335.725611,\n  'battery': 20},\n {'coordinates': [9.962157, 49.792837],\n  'time': 1699466275.748335,\n  'battery': 20},\n {'coordinates': [9.962443, 49.792807],\n  'time': 1699466215.704843,\n  'battery': 20},\n {'coordinates': [9.959815, 49.792797],\n  'time': 1699466155.688618,\n  'battery': 20},\n {'coordinates': [9.962217, 49.792902],\n  'time': 1699466095.685898,\n  'battery': 20},\n {'coordinates': [9.961327, 49.792795],\n  'time': 1699466035.668877,\n  'battery': 20},\n {'coordinates': [9.962523, 49.792798],\n  'time': 1699465975.650367,\n  'battery': 20},\n {'coordinates': [9.962143, 49.792863],\n  'time': 1699465915.645608,\n  'battery': 20},\n {'coordinates': [9.961993, 49.792857],\n  'time': 1699465855.628039,\n  'battery': 20},\n {'coordinates': [9.962063, 49.792738],\n  'time': 1699465795.617346,\n  'battery': 20},\n {'coordinates': [9.962233, 49.792702],\n  'time': 1699465735.606927,\n  'battery': 20},\n {'coordinates': [9.963073, 49.792808],\n  'time': 1699465675.586423,\n  'battery': 20},\n {'coordinates': [9.961292, 49.79256],\n  'time': 1699465615.555745,\n  'battery': 20},\n {'coordinates': [9.961428, 49.792667],\n  'time': 1699465555.548261,\n  'battery': 20},\n {'coordinates': [9.96239, 49.792847],\n  'time': 1699465495.534926,\n  'battery': 20},\n {'coordinates': [9.962137, 49.792875],\n  'time': 1699465435.527035,\n  'battery': 20},\n {'coordinates': [9.961948, 49.792817],\n  'time': 1699465375.509359,\n  'battery': 20},\n {'coordinates': [9.963127, 49.792892],\n  'time': 1699465315.503388,\n  'battery': 20},\n {'coordinates': [9.962508, 49.792598],\n  'time': 1699465255.493305,\n  'battery': 20},\n {'coordinates': [9.962365, 49.792767],\n  'time': 1699465195.479214,\n  'battery': 20},\n {'coordinates': [9.962523, 49.792507],\n  'time': 1699465135.466345,\n  'battery': 20},\n {'coordinates': [9.962893, 49.79287],\n  'time': 1699465075.444187,\n  'battery': 20},\n {'coordinates': [9.963173, 49.793248],\n  'time': 1699465015.436065,\n  'battery': 20},\n {'coordinates': [9.962905, 49.792937],\n  'time': 1699464955.423757,\n  'battery': 20},\n {'coordinates': [9.962728, 49.792808],\n  'time': 1699464895.415319,\n  'battery': 20},\n {'coordinates': [9.962342, 49.793015],\n  'time': 1699464835.39825,\n  'battery': 20},\n {'coordinates': [9.961202, 49.792603],\n  'time': 1699464775.380251,\n  'battery': 20},\n {'coordinates': [9.962072, 49.79304],\n  'time': 1699464715.374871,\n  'battery': 20},\n {'coordinates': [9.962093, 49.792813],\n  'time': 1699464655.366776,\n  'battery': 20},\n {'coordinates': [9.962023, 49.792715],\n  'time': 1699464595.350255,\n  'battery': 20},\n {'coordinates': [9.962352, 49.792858],\n  'time': 1699464535.341105,\n  'battery': 20},\n {'coordinates': [9.962357, 49.792633],\n  'time': 1699464475.327523,\n  'battery': 20},\n {'coordinates': [9.96214, 49.792783],\n  'time': 1699464415.328194,\n  'battery': 20},\n {'coordinates': [9.961832, 49.792882],\n  'time': 1699464356.304401,\n  'battery': 20},\n {'coordinates': [9.961902, 49.792865],\n  'time': 1699464296.293455,\n  'battery': 20},\n {'coordinates': [9.962073, 49.792837],\n  'time': 1699464236.286839,\n  'battery': 20},\n {'coordinates': [9.961907, 49.792833],\n  'time': 1699464176.27545,\n  'battery': 20},\n {'coordinates': [9.962462, 49.79298],\n  'time': 1699464116.276126,\n  'battery': 20},\n {'coordinates': [9.962207, 49.792853],\n  'time': 1699464056.248937,\n  'battery': 20},\n {'coordinates': [9.962403, 49.792848],\n  'time': 1699463996.252732,\n  'battery': 20},\n {'coordinates': [9.9621, 49.792745],\n  'time': 1699463936.228952,\n  'battery': 20},\n {'coordinates': [9.961912, 49.792842],\n  'time': 1699463876.243264,\n  'battery': 20},\n {'coordinates': [9.962397, 49.792632],\n  'time': 1699463816.214833,\n  'battery': 20},\n {'coordinates': [9.962403, 49.792675],\n  'time': 1699463756.20313,\n  'battery': 20},\n {'coordinates': [9.962792, 49.79308],\n  'time': 1699463696.18692,\n  'battery': 20},\n {'coordinates': [9.96251, 49.793013],\n  'time': 1699463636.133404,\n  'battery': 20},\n {'coordinates': [9.96196, 49.792648],\n  'time': 1699463576.116477,\n  'battery': 25},\n {'coordinates': [9.961322, 49.79293], 'time': 1699463516.0991, 'battery': 25},\n {'coordinates': [9.960997, 49.792893],\n  'time': 1699463456.0817,\n  'battery': 25},\n {'coordinates': [9.962613, 49.792648],\n  'time': 1699463396.071916,\n  'battery': 25},\n {'coordinates': [9.961772, 49.792813],\n  'time': 1699463336.053265,\n  'battery': 25},\n {'coordinates': [9.961817, 49.792733],\n  'time': 1699463276.043685,\n  'battery': 25},\n {'coordinates': [9.962148, 49.792742],\n  'time': 1699463216.042879,\n  'battery': 25},\n {'coordinates': [9.961875, 49.792835],\n  'time': 1699463156.034529,\n  'battery': 25},\n {'coordinates': [9.96186, 49.792808],\n  'time': 1699463096.017108,\n  'battery': 25},\n {'coordinates': [9.962115, 49.79271],\n  'time': 1699463035.994061,\n  'battery': 25},\n {'coordinates': [9.962307, 49.792677],\n  'time': 1699462976.004164,\n  'battery': 25},\n {'coordinates': [9.96203, 49.792773],\n  'time': 1699462916.106636,\n  'battery': 25},\n {'coordinates': [9.961953, 49.79268],\n  'time': 1699462855.959956,\n  'battery': 25},\n {'coordinates': [9.962307, 49.792765],\n  'time': 1699462795.947685,\n  'battery': 25},\n {'coordinates': [9.96239, 49.792663],\n  'time': 1699462735.940046,\n  'battery': 25},\n {'coordinates': [9.96218, 49.792743],\n  'time': 1699462675.932485,\n  'battery': 25},\n {'coordinates': [9.962107, 49.792687],\n  'time': 1699462615.906131,\n  'battery': 25},\n {'coordinates': [9.962107, 49.792685],\n  'time': 1699462555.872336,\n  'battery': 25},\n {'coordinates': [9.962243, 49.792973],\n  'time': 1699462495.891527,\n  'battery': 25},\n {'coordinates': [9.96203, 49.792725],\n  'time': 1699462435.899874,\n  'battery': 25},\n {'coordinates': [9.962792, 49.793007],\n  'time': 1699462375.99028,\n  'battery': 25},\n {'coordinates': [9.955178, 49.796248],\n  'time': 1699462346.940982,\n  'battery': 25},\n {'coordinates': [9.966853, 49.782743],\n  'time': 1699446356.521718,\n  'battery': 35},\n {'coordinates': [9.969098, 49.785847],\n  'time': 1699446176.489285,\n  'battery': 35},\n {'coordinates': [9.97815, 49.788497],\n  'time': 1699430757.668471,\n  'battery': 55},\n {'coordinates': [9.966097, 49.791807],\n  'time': 1699430518.191897,\n  'battery': 'N/A'},\n {'coordinates': [9.961813, 49.792953],\n  'time': 1699430458.196747,\n  'battery': 'N/A'},\n {'coordinates': [9.961813, 49.792953],\n  'time': 1699430338.156916,\n  'battery': 'N/A'},\n {'coordinates': [9.961813, 49.792953],\n  'time': 1699430278.140354,\n  'battery': 'N/A'},\n {'coordinates': [9.961813, 49.792953],\n  'time': 1699430158.167186,\n  'battery': 'N/A'},\n {'coordinates': [9.961813, 49.792953],\n  'time': 1699430098.170269,\n  'battery': 'N/A'},\n {'coordinates': [9.961813, 49.792953],\n  'time': 1699429978.160362,\n  'battery': 'N/A'},\n {'coordinates': [9.961813, 49.792953],\n  'time': 1699429918.111863,\n  'battery': 'N/A'},\n {'coordinates': [9.961813, 49.792953],\n  'time': 1699429798.146516,\n  'battery': 'N/A'},\n {'coordinates': [9.961813, 49.792953],\n  'time': 1699429738.151473,\n  'battery': 'N/A'},\n {'coordinates': [9.961813, 49.792953],\n  'time': 1699429618.148705,\n  'battery': 'N/A'},\n {'coordinates': [9.961813, 49.792953],\n  'time': 1699429558.143216,\n  'battery': 'N/A'},\n {'coordinates': [9.961813, 49.792953],\n  'time': 1699429438.128182,\n  'battery': 'N/A'},\n {'coordinates': [9.961813, 49.792953],\n  'time': 1699429378.129261,\n  'battery': 'N/A'},\n {'coordinates': [9.961813, 49.792953],\n  'time': 1699429258.118774,\n  'battery': 'N/A'},\n {'coordinates': [9.961813, 49.792953],\n  'time': 1699429198.115395,\n  'battery': 'N/A'},\n {'coordinates': [9.961813, 49.792953],\n  'time': 1699429078.103103,\n  'battery': 'N/A'},\n {'coordinates': [9.961813, 49.792953],\n  'time': 1699429018.105375,\n  'battery': 'N/A'},\n {'coordinates': [9.961813, 49.792953],\n  'time': 1699428898.091036,\n  'battery': 'N/A'},\n {'coordinates': [9.961813, 49.792953],\n  'time': 1699428838.09216,\n  'battery': 'N/A'},\n {'coordinates': [9.961813, 49.792953],\n  'time': 1699428718.081744,\n  'battery': 'N/A'},\n {'coordinates': [9.961813, 49.792953],\n  'time': 1699428658.076599,\n  'battery': 'N/A'},\n {'coordinates': [9.961813, 49.792953],\n  'time': 1699428538.079811,\n  'battery': 'N/A'},\n {'coordinates': [9.961813, 49.792953],\n  'time': 1699428478.036499,\n  'battery': 'N/A'},\n {'coordinates': [9.961813, 49.792953],\n  'time': 1699428358.052777,\n  'battery': 'N/A'},\n {'coordinates': [9.961813, 49.792953],\n  'time': 1699428298.052528,\n  'battery': 'N/A'},\n {'coordinates': [9.961813, 49.792953],\n  'time': 1699428178.016756,\n  'battery': 'N/A'},\n {'coordinates': [9.961813, 49.792953],\n  'time': 1699428118.050699,\n  'battery': 'N/A'},\n {'coordinates': [9.961813, 49.792953],\n  'time': 1699427998.046868,\n  'battery': 'N/A'},\n {'coordinates': [9.961813, 49.792953],\n  'time': 1699427938.03419,\n  'battery': 'N/A'},\n {'coordinates': [9.961813, 49.792953],\n  'time': 1699427818.030125,\n  'battery': 'N/A'},\n {'coordinates': [9.961813, 49.792953],\n  'time': 1699427758.02374,\n  'battery': 'N/A'},\n {'coordinates': [9.961813, 49.792953],\n  'time': 1699427638.015172,\n  'battery': 'N/A'},\n {'coordinates': [9.961813, 49.792953],\n  'time': 1699427578.0136,\n  'battery': 'N/A'},\n {'coordinates': [9.961813, 49.792953],\n  'time': 1699427458.008035,\n  'battery': 'N/A'},\n {'coordinates': [9.961813, 49.792953],\n  'time': 1699427398.012614,\n  'battery': 'N/A'},\n {'coordinates': [9.961813, 49.792953],\n  'time': 1699427277.998076,\n  'battery': 'N/A'},\n {'coordinates': [9.961813, 49.792953],\n  'time': 1699427217.941197,\n  'battery': 'N/A'},\n {'coordinates': [9.961813, 49.792953],\n  'time': 1699427097.980795,\n  'battery': 'N/A'},\n {'coordinates': [9.961813, 49.792953],\n  'time': 1699427037.976581,\n  'battery': 'N/A'},\n {'coordinates': [9.961813, 49.792953],\n  'time': 1699426917.969014,\n  'battery': 'N/A'},\n {'coordinates': [9.961813, 49.792953],\n  'time': 1699426857.922496,\n  'battery': 'N/A'},\n {'coordinates': [9.961813, 49.792953],\n  'time': 1699426737.960568,\n  'battery': 'N/A'},\n {'coordinates': [9.961813, 49.792953],\n  'time': 1699426678.116263,\n  'battery': 'N/A'},\n {'coordinates': [9.961813, 49.792953],\n  'time': 1699426557.940478,\n  'battery': 'N/A'},\n {'coordinates': [9.961813, 49.792953],\n  'time': 1699426497.940329,\n  'battery': 'N/A'},\n {'coordinates': [9.961813, 49.792953],\n  'time': 1699426377.937126,\n  'battery': 'N/A'},\n {'coordinates': [9.961813, 49.792953],\n  'time': 1699426317.923518,\n  'battery': 'N/A'},\n {'coordinates': [9.961813, 49.792953],\n  'time': 1699426198.920945,\n  'battery': 'N/A'},\n {'coordinates': [9.961813, 49.792953],\n  'time': 1699426138.900706,\n  'battery': 'N/A'},\n {'coordinates': [9.961813, 49.792953],\n  'time': 1699426018.887017,\n  'battery': 'N/A'},\n {'coordinates': [9.961813, 49.792953],\n  'time': 1699425958.885859,\n  'battery': 'N/A'},\n {'coordinates': [9.961813, 49.792953],\n  'time': 1699425838.875414,\n  'battery': 'N/A'},\n {'coordinates': [9.961813, 49.792953],\n  'time': 1699425778.877059,\n  'battery': 'N/A'},\n {'coordinates': [9.961813, 49.792953],\n  'time': 1699425658.858887,\n  'battery': 'N/A'},\n {'coordinates': [9.961813, 49.792953],\n  'time': 1699425598.857205,\n  'battery': 'N/A'},\n {'coordinates': [9.961813, 49.792953],\n  'time': 1699425478.85638,\n  'battery': 'N/A'},\n {'coordinates': [9.961813, 49.792953],\n  'time': 1699425418.848427,\n  'battery': 'N/A'},\n {'coordinates': [9.961813, 49.792953],\n  'time': 1699425298.836164,\n  'battery': 'N/A'},\n {'coordinates': [9.961813, 49.792953],\n  'time': 1699425238.835025,\n  'battery': 'N/A'},\n {'coordinates': [9.961813, 49.792953],\n  'time': 1699425118.819835,\n  'battery': 'N/A'},\n {'coordinates': [9.961813, 49.792953],\n  'time': 1699425058.816112,\n  'battery': 'N/A'},\n {'coordinates': [9.961813, 49.792953],\n  'time': 1699424938.807696,\n  'battery': 'N/A'},\n {'coordinates': [9.961813, 49.792953],\n  'time': 1699424878.801031,\n  'battery': 'N/A'},\n {'coordinates': [9.961813, 49.792953],\n  'time': 1699424758.786446,\n  'battery': 'N/A'},\n {'coordinates': [9.961813, 49.792953],\n  'time': 1699424698.791787,\n  'battery': 'N/A'},\n {'coordinates': [9.961813, 49.792953],\n  'time': 1699424578.789076,\n  'battery': 'N/A'},\n {'coordinates': [9.961813, 49.792953],\n  'time': 1699424518.776894,\n  'battery': 'N/A'},\n {'coordinates': [9.961813, 49.792953],\n  'time': 1699424398.772632,\n  'battery': 'N/A'},\n {'coordinates': [9.961813, 49.792953],\n  'time': 1699424338.752573,\n  'battery': 'N/A'},\n {'coordinates': [9.961813, 49.792953],\n  'time': 1699424218.707716,\n  'battery': 'N/A'},\n {'coordinates': [9.961813, 49.792953],\n  'time': 1699424158.706701,\n  'battery': 'N/A'},\n {'coordinates': [9.961813, 49.792953],\n  'time': 1699424038.692185,\n  'battery': 'N/A'},\n {'coordinates': [9.961813, 49.792953],\n  'time': 1699423978.677585,\n  'battery': 'N/A'},\n {'coordinates': [9.961813, 49.792953],\n  'time': 1699423858.64837,\n  'battery': 'N/A'},\n {'coordinates': [9.961813, 49.792953],\n  'time': 1699423798.644444,\n  'battery': 'N/A'},\n {'coordinates': [9.961593, 49.792798],\n  'time': 1699423678.61958,\n  'battery': 'N/A'},\n {'coordinates': [9.961947, 49.792727],\n  'time': 1699423618.607277,\n  'battery': 'N/A'},\n {'coordinates': [9.962262, 49.79291],\n  'time': 1699423498.574534,\n  'battery': 'N/A'},\n {'coordinates': [9.955802, 49.792987],\n  'time': 1699423438.57649,\n  'battery': 'N/A'},\n {'coordinates': [9.96286, 49.792773],\n  'time': 1699423318.54774,\n  'battery': 'N/A'},\n {'coordinates': [9.96286, 49.792773],\n  'time': 1699423258.551003,\n  'battery': 'N/A'},\n {'coordinates': [9.96286, 49.792773],\n  'time': 1699423138.545671,\n  'battery': 'N/A'},\n {'coordinates': [9.96286, 49.792772],\n  'time': 1699423078.486335,\n  'battery': 'N/A'},\n {'coordinates': [9.962072, 49.792833],\n  'time': 1699422958.513337,\n  'battery': 'N/A'},\n {'coordinates': [9.962072, 49.792833],\n  'time': 1699422898.520015,\n  'battery': 'N/A'},\n {'coordinates': [9.962133, 49.79284],\n  'time': 1699422778.50193,\n  'battery': 'N/A'},\n {'coordinates': [9.962557, 49.792733],\n  'time': 1699422718.481822,\n  'battery': 'N/A'},\n {'coordinates': [9.962197, 49.792883],\n  'time': 1699422598.470903,\n  'battery': 'N/A'},\n {'coordinates': [9.962145, 49.792843],\n  'time': 1699422538.447476,\n  'battery': 'N/A'},\n {'coordinates': [9.962097, 49.792822],\n  'time': 1699422418.423941,\n  'battery': 'N/A'},\n {'coordinates': [9.962167, 49.792858],\n  'time': 1699422358.409546,\n  'battery': 'N/A'},\n {'coordinates': [9.962087, 49.792863],\n  'time': 1699422238.389278,\n  'battery': 'N/A'},\n {'coordinates': [9.962245, 49.792848],\n  'time': 1699422178.354249,\n  'battery': 'N/A'},\n {'coordinates': [9.962097, 49.79284],\n  'time': 1699422058.335299,\n  'battery': 'N/A'},\n {'coordinates': [9.962043, 49.792987],\n  'time': 1699421998.326174,\n  'battery': 'N/A'},\n {'coordinates': [9.962258, 49.792853],\n  'time': 1699421878.290275,\n  'battery': 'N/A'},\n {'coordinates': [9.962992, 49.792618],\n  'time': 1699421818.26979,\n  'battery': 'N/A'},\n {'coordinates': [9.96154, 49.792887],\n  'time': 1699421698.269912,\n  'battery': 'N/A'},\n {'coordinates': [9.960577, 49.792813],\n  'time': 1699421638.256227,\n  'battery': 'N/A'},\n {'coordinates': [9.960997, 49.792227],\n  'time': 1699421518.234104,\n  'battery': 'N/A'},\n {'coordinates': [9.961782, 49.792868],\n  'time': 1699421458.210584,\n  'battery': 'N/A'},\n {'coordinates': [9.962688, 49.792755],\n  'time': 1699421338.190724,\n  'battery': 'N/A'},\n {'coordinates': [9.962343, 49.792615],\n  'time': 1699421279.168588,\n  'battery': 'N/A'},\n {'coordinates': [9.962347, 49.792785],\n  'time': 1699421159.140937,\n  'battery': 'N/A'},\n {'coordinates': [9.961977, 49.792737],\n  'time': 1699421099.127099,\n  'battery': 'N/A'},\n {'coordinates': [9.96221, 49.792693],\n  'time': 1699420979.093699,\n  'battery': 'N/A'},\n {'coordinates': [9.962235, 49.792815],\n  'time': 1699420919.090381,\n  'battery': 'N/A'},\n {'coordinates': [9.962608, 49.792713],\n  'time': 1699420799.060209,\n  'battery': 'N/A'},\n {'coordinates': [9.96245, 49.792815],\n  'time': 1699420739.049133,\n  'battery': 'N/A'},\n {'coordinates': [9.963395, 49.792383],\n  'time': 1699420619.028795,\n  'battery': 'N/A'},\n {'coordinates': [9.961732, 49.792732],\n  'time': 1699420559.009561,\n  'battery': 'N/A'},\n {'coordinates': [9.961532, 49.79266],\n  'time': 1699420438.990494,\n  'battery': 'N/A'},\n {'coordinates': [9.961857, 49.792783],\n  'time': 1699420378.990543,\n  'battery': 'N/A'},\n {'coordinates': [9.961982, 49.793193],\n  'time': 1699420258.968359,\n  'battery': 'N/A'},\n {'coordinates': [9.961982, 49.793195],\n  'time': 1699420198.961531,\n  'battery': 'N/A'},\n {'coordinates': [9.961492, 49.792633],\n  'time': 1699420078.926036,\n  'battery': 'N/A'},\n {'coordinates': [9.961633, 49.793],\n  'time': 1699420018.931712,\n  'battery': 'N/A'},\n {'coordinates': [9.961313, 49.792682],\n  'time': 1699419898.901621,\n  'battery': 'N/A'},\n {'coordinates': [9.961677, 49.792738],\n  'time': 1699419838.886334,\n  'battery': 'N/A'},\n {'coordinates': [9.960992, 49.793045],\n  'time': 1699419718.862936,\n  'battery': 'N/A'},\n {'coordinates': [9.962405, 49.79286],\n  'time': 1699419658.853963,\n  'battery': 'N/A'},\n {'coordinates': [9.962405, 49.79286],\n  'time': 1699419538.850489,\n  'battery': 'N/A'},\n {'coordinates': [9.962405, 49.79286],\n  'time': 1699419478.838963,\n  'battery': 'N/A'},\n {'coordinates': [9.962405, 49.79286],\n  'time': 1699419358.84231,\n  'battery': 'N/A'},\n {'coordinates': [9.962405, 49.79286],\n  'time': 1699419298.8392,\n  'battery': 'N/A'},\n {'coordinates': [9.962405, 49.79286],\n  'time': 1699419178.823665,\n  'battery': 'N/A'},\n {'coordinates': [9.962405, 49.79286],\n  'time': 1699419118.831614,\n  'battery': 'N/A'},\n {'coordinates': [9.962405, 49.79286],\n  'time': 1699418998.81416,\n  'battery': 'N/A'},\n {'coordinates': [9.962405, 49.79286],\n  'time': 1699418938.806942,\n  'battery': 'N/A'},\n {'coordinates': [9.962405, 49.79286],\n  'time': 1699418818.804846,\n  'battery': 'N/A'},\n {'coordinates': [9.962405, 49.79286],\n  'time': 1699418758.794385,\n  'battery': 'N/A'},\n {'coordinates': [9.962405, 49.79286],\n  'time': 1699418638.785316,\n  'battery': 'N/A'},\n {'coordinates': [9.962405, 49.79286],\n  'time': 1699418578.781537,\n  'battery': 'N/A'},\n {'coordinates': [9.962405, 49.79286],\n  'time': 1699418458.780303,\n  'battery': 'N/A'},\n {'coordinates': [9.962405, 49.79286],\n  'time': 1699418398.774081,\n  'battery': 'N/A'},\n {'coordinates': [9.963222, 49.792707],\n  'time': 1699907457.797358,\n  'battery': 'N/A'},\n {'coordinates': [9.962405, 49.79286],\n  'time': 1699418278.742637,\n  'battery': 'N/A'},\n {'coordinates': [9.963222, 49.792707],\n  'time': 1699907337.794752,\n  'battery': 'N/A'},\n {'coordinates': [9.962405, 49.79286],\n  'time': 1699418218.665879,\n  'battery': 'N/A'},\n {'coordinates': [9.963222, 49.792707],\n  'time': 1699907277.784196,\n  'battery': 'N/A'},\n {'coordinates': [9.962405, 49.79286],\n  'time': 1699418098.694756,\n  'battery': 'N/A'},\n {'coordinates': [9.963222, 49.792707],\n  'time': 1699907157.794032,\n  'battery': 'N/A'},\n {'coordinates': [9.962405, 49.79286],\n  'time': 1699418038.699184,\n  'battery': 'N/A'},\n {'coordinates': [9.963222, 49.792707],\n  'time': 1699907097.793077,\n  'battery': 'N/A'},\n {'coordinates': [9.962405, 49.79286],\n  'time': 1699417918.632048,\n  'battery': 'N/A'},\n {'coordinates': [9.963222, 49.792707],\n  'time': 1699906977.781935,\n  'battery': 'N/A'},\n {'coordinates': [9.962405, 49.79286],\n  'time': 1699417858.666833,\n  'battery': 'N/A'},\n {'coordinates': [9.963222, 49.792707],\n  'time': 1699906917.782077,\n  'battery': 'N/A'},\n {'coordinates': [9.964192, 49.79187],\n  'time': 1699417738.637644,\n  'battery': 'N/A'},\n {'coordinates': [9.963222, 49.792707],\n  'time': 1699906797.768092,\n  'battery': 'N/A'},\n {'coordinates': [9.96291, 49.79236],\n  'time': 1699417678.634221,\n  'battery': 'N/A'},\n {'coordinates': [9.963222, 49.792707],\n  'time': 1699906737.766939,\n  'battery': 'N/A'},\n {'coordinates': [9.96228, 49.79261],\n  'time': 1699417558.626287,\n  'battery': 'N/A'},\n {'coordinates': [9.963222, 49.792707],\n  'time': 1699906617.761396,\n  'battery': 'N/A'},\n {'coordinates': [9.962843, 49.792392],\n  'time': 1699417498.612939,\n  'battery': 'N/A'},\n {'coordinates': [9.963222, 49.792707],\n  'time': 1699906557.768864,\n  'battery': 'N/A'},\n {'coordinates': [9.9622, 49.792662],\n  'time': 1699417378.594053,\n  'battery': 'N/A'},\n {'coordinates': [9.963222, 49.792707],\n  'time': 1699906437.752762,\n  'battery': 'N/A'},\n {'coordinates': [9.963222, 49.792707],\n  'time': 1699906377.747871,\n  'battery': 'N/A'},\n {'coordinates': [9.962543, 49.792662],\n  'time': 1699417318.595378,\n  'battery': 'N/A'},\n {'coordinates': [9.963353, 49.793173],\n  'time': 1699417198.581433,\n  'battery': 'N/A'},\n {'coordinates': [9.963222, 49.792707],\n  'time': 1699906257.747331,\n  'battery': 'N/A'},\n {'coordinates': [9.963222, 49.792707],\n  'time': 1699906197.753041,\n  'battery': 'N/A'},\n {'coordinates': [9.963353, 49.793173],\n  'time': 1699417138.571347,\n  'battery': 'N/A'},\n {'coordinates': [9.963353, 49.793173],\n  'time': 1699417018.570018,\n  'battery': 'N/A'},\n {'coordinates': [9.963222, 49.792707],\n  'time': 1699906077.749017,\n  'battery': 'N/A'},\n {'coordinates': [9.963222, 49.792707],\n  'time': 1699906017.735406,\n  'battery': 'N/A'},\n {'coordinates': [9.963353, 49.793173],\n  'time': 1699416958.560209,\n  'battery': 'N/A'},\n {'coordinates': [9.963353, 49.793173],\n  'time': 1699416838.554254,\n  'battery': 'N/A'},\n {'coordinates': [9.963222, 49.792707],\n  'time': 1699905897.728241,\n  'battery': 'N/A'},\n {'coordinates': [9.963222, 49.792707],\n  'time': 1699905837.745664,\n  'battery': 'N/A'},\n {'coordinates': [9.963353, 49.793173],\n  'time': 1699416778.515252,\n  'battery': 'N/A'},\n {'coordinates': [9.963353, 49.793173],\n  'time': 1699416658.549289,\n  'battery': 'N/A'},\n {'coordinates': [9.963222, 49.792707],\n  'time': 1699905717.736452,\n  'battery': 'N/A'},\n {'coordinates': [9.963222, 49.792707],\n  'time': 1699905657.726064,\n  'battery': 'N/A'},\n {'coordinates': [9.963353, 49.793173],\n  'time': 1699416598.54695,\n  'battery': 'N/A'},\n {'coordinates': [9.963353, 49.793173],\n  'time': 1699416478.536218,\n  'battery': 'N/A'},\n {'coordinates': [9.963222, 49.792707],\n  'time': 1699905537.71626,\n  'battery': 'N/A'},\n {'coordinates': [9.963222, 49.792707],\n  'time': 1699905477.718186,\n  'battery': 'N/A'},\n {'coordinates': [9.963353, 49.793173],\n  'time': 1699416418.533621,\n  'battery': 'N/A'},\n {'coordinates': [9.963353, 49.793173],\n  'time': 1699416298.522737,\n  'battery': 'N/A'},\n {'coordinates': [9.963222, 49.792707],\n  'time': 1699905357.707478,\n  'battery': 'N/A'},\n {'coordinates': [9.963222, 49.792707],\n  'time': 1699905297.707633,\n  'battery': 'N/A'},\n {'coordinates': [9.963353, 49.793173],\n  'time': 1699416238.524665,\n  'battery': 'N/A'},\n {'coordinates': [9.963353, 49.793173],\n  'time': 1699416118.51328,\n  'battery': 'N/A'},\n {'coordinates': [9.963222, 49.792707],\n  'time': 1699905177.703953,\n  'battery': 'N/A'},\n {'coordinates': [9.963222, 49.792707],\n  'time': 1699905117.699832,\n  'battery': 'N/A'},\n {'coordinates': [9.963353, 49.793173],\n  'time': 1699416058.50849,\n  'battery': 'N/A'},\n {'coordinates': [9.963222, 49.792707],\n  'time': 1699904997.70314,\n  'battery': 'N/A'},\n {'coordinates': [9.963353, 49.793173],\n  'time': 1699415938.498888,\n  'battery': 'N/A'},\n {'coordinates': [9.963222, 49.792707],\n  'time': 1699904937.702616,\n  'battery': 'N/A'},\n {'coordinates': [9.963353, 49.793173],\n  'time': 1699415878.495288,\n  'battery': 'N/A'},\n {'coordinates': [9.963353, 49.793173],\n  'time': 1699415758.489024,\n  'battery': 'N/A'},\n {'coordinates': [9.963222, 49.792707],\n  'time': 1699904817.692179,\n  'battery': 'N/A'},\n {'coordinates': [9.963222, 49.792707],\n  'time': 1699904757.683703,\n  'battery': 'N/A'},\n {'coordinates': [9.963353, 49.793173],\n  'time': 1699415698.483671,\n  'battery': 'N/A'},\n {'coordinates': [9.963222, 49.792707],\n  'time': 1699904637.696794,\n  'battery': 'N/A'},\n {'coordinates': [9.961507, 49.79276],\n  'time': 1699415578.477006,\n  'battery': 'N/A'},\n {'coordinates': [9.963222, 49.792707],\n  'time': 1699904577.676967,\n  'battery': 'N/A'},\n {'coordinates': [9.963137, 49.79228],\n  'time': 1699415518.474997,\n  'battery': 'N/A'},\n {'coordinates': [9.959278, 49.792473],\n  'time': 1699415399.455699,\n  'battery': 'N/A'},\n {'coordinates': [9.963222, 49.792707],\n  'time': 1699904457.685723,\n  'battery': 'N/A'},\n {'coordinates': [9.964367, 49.793038],\n  'time': 1699415339.439572,\n  'battery': 'N/A'},\n {'coordinates': [9.963222, 49.792707],\n  'time': 1699904397.689199,\n  'battery': 'N/A'},\n {'coordinates': [9.964485, 49.793092],\n  'time': 1699415219.42975,\n  'battery': 'N/A'},\n {'coordinates': [9.963222, 49.792707],\n  'time': 1699904277.683315,\n  'battery': 'N/A'},\n {'coordinates': [9.963222, 49.792707],\n  'time': 1699904217.688297,\n  'battery': 'N/A'},\n {'coordinates': [9.964483, 49.792987],\n  'time': 1699415159.428316,\n  'battery': 'N/A'},\n {'coordinates': [9.95936, 49.792613],\n  'time': 1699415039.403402,\n  'battery': 'N/A'},\n {'coordinates': [9.963222, 49.792707],\n  'time': 1699904097.674949,\n  'battery': 'N/A'},\n {'coordinates': [9.963222, 49.792707],\n  'time': 1699904037.674505,\n  'battery': 'N/A'},\n {'coordinates': [9.95936, 49.792613],\n  'time': 1699414979.406708,\n  'battery': 'N/A'},\n {'coordinates': [9.95936, 49.792613],\n  'time': 1699414859.391125,\n  'battery': 'N/A'},\n {'coordinates': [9.963222, 49.792707],\n  'time': 1699903917.667513,\n  'battery': 'N/A'},\n {'coordinates': [9.959822, 49.792652],\n  'time': 1699414799.393281,\n  'battery': 'N/A'},\n {'coordinates': [9.963222, 49.792707],\n  'time': 1699903857.657432,\n  'battery': 'N/A'},\n {'coordinates': [9.9601, 49.79248],\n  'time': 1699414679.387798,\n  'battery': 'N/A'},\n {'coordinates': [9.963222, 49.792707],\n  'time': 1699903737.649595,\n  'battery': 'N/A'},\n {'coordinates': [9.9601, 49.792485],\n  'time': 1699414619.368252,\n  'battery': 'N/A'},\n {'coordinates': [9.963222, 49.792707],\n  'time': 1699903677.646846,\n  'battery': 'N/A'},\n {'coordinates': [9.959655, 49.792423],\n  'time': 1699414499.35621,\n  'battery': 'N/A'},\n {'coordinates': [9.963222, 49.792707],\n  'time': 1699903557.665199,\n  'battery': 'N/A'},\n {'coordinates': [9.963222, 49.792707],\n  'time': 1699903497.666476,\n  'battery': 'N/A'},\n {'coordinates': [9.961553, 49.792607],\n  'time': 1699414439.331422,\n  'battery': 'N/A'},\n {'coordinates': [9.961258, 49.792487],\n  'time': 1699414319.314823,\n  'battery': 'N/A'},\n {'coordinates': [9.963222, 49.792707],\n  'time': 1699903377.673707,\n  'battery': 'N/A'},\n {'coordinates': [9.961258, 49.79249],\n  'time': 1699414259.312727,\n  'battery': 'N/A'},\n {'coordinates': [9.963222, 49.792707],\n  'time': 1699903317.674308,\n  'battery': 'N/A'},\n {'coordinates': [9.960922, 49.79251],\n  'time': 1699414139.291199,\n  'battery': 'N/A'},\n {'coordinates': [9.963222, 49.792707],\n  'time': 1699903197.654848,\n  'battery': 'N/A'},\n {'coordinates': [9.960655, 49.792448],\n  'time': 1699414079.276379,\n  'battery': 'N/A'},\n {'coordinates': [9.963222, 49.792707],\n  'time': 1699903137.642552,\n  'battery': 'N/A'},\n {'coordinates': [9.960093, 49.792467],\n  'time': 1699413959.259835,\n  'battery': 'N/A'},\n {'coordinates': [9.963222, 49.792707],\n  'time': 1699903017.639167,\n  'battery': 'N/A'},\n {'coordinates': [9.963148, 49.792942],\n  'time': 1699413899.245699,\n  'battery': 'N/A'},\n {'coordinates': [9.963222, 49.792707],\n  'time': 1699902957.623506,\n  'battery': 'N/A'},\n {'coordinates': [9.961012, 49.79259],\n  'time': 1699413779.228323,\n  'battery': 'N/A'},\n {'coordinates': [9.963222, 49.792707],\n  'time': 1699902837.635633,\n  'battery': 'N/A'},\n {'coordinates': [9.961097, 49.792812],\n  'time': 1699413719.218493,\n  'battery': 'N/A'},\n {'coordinates': [9.963222, 49.792707],\n  'time': 1699902777.643747,\n  'battery': 'N/A'},\n {'coordinates': [9.960998, 49.792653],\n  'time': 1699413599.21935,\n  'battery': 'N/A'},\n {'coordinates': [9.963222, 49.792707],\n  'time': 1699902657.646494,\n  'battery': 'N/A'},\n {'coordinates': [9.960998, 49.792653],\n  'time': 1699413539.201001,\n  'battery': 'N/A'},\n {'coordinates': [9.963222, 49.792707],\n  'time': 1699902597.636264,\n  'battery': 'N/A'},\n {'coordinates': [9.961112, 49.792632],\n  'time': 1699413419.180901,\n  'battery': 'N/A'},\n {'coordinates': [9.963222, 49.792707],\n  'time': 1699902477.619865,\n  'battery': 'N/A'},\n {'coordinates': [9.963222, 49.792707],\n  'time': 1699902417.625927,\n  'battery': 'N/A'},\n {'coordinates': [9.96095, 49.792668],\n  'time': 1699413359.165535,\n  'battery': 'N/A'},\n {'coordinates': [9.963222, 49.792707],\n  'time': 1699902297.621071,\n  'battery': 'N/A'},\n {'coordinates': [9.96136, 49.7926],\n  'time': 1699413239.151954,\n  'battery': 'N/A'},\n {'coordinates': [9.963222, 49.792707],\n  'time': 1699902237.630703,\n  'battery': 'N/A'},\n {'coordinates': [9.961337, 49.79245],\n  'time': 1699413179.142085,\n  'battery': 'N/A'},\n {'coordinates': [9.963222, 49.792707],\n  'time': 1699902117.617984,\n  'battery': 'N/A'},\n {'coordinates': [9.961132, 49.792433],\n  'time': 1699413059.111631,\n  'battery': 'N/A'},\n {'coordinates': [9.963222, 49.792707],\n  'time': 1699902057.618222,\n  'battery': 'N/A'},\n {'coordinates': [9.96184, 49.792897],\n  'time': 1699412999.109468,\n  'battery': 'N/A'},\n {'coordinates': [9.963222, 49.792707],\n  'time': 1699901937.616017,\n  'battery': 'N/A'},\n {'coordinates': [9.961188, 49.79272],\n  'time': 1699412879.079243,\n  'battery': 'N/A'},\n {'coordinates': [9.963222, 49.792707],\n  'time': 1699901877.614609,\n  'battery': 'N/A'},\n {'coordinates': [9.961065, 49.792733],\n  'time': 1699412819.068381,\n  'battery': 'N/A'},\n {'coordinates': [9.963222, 49.792707],\n  'time': 1699901757.604508,\n  'battery': 'N/A'},\n {'coordinates': [9.960455, 49.79256],\n  'time': 1699412699.06697,\n  'battery': 'N/A'},\n {'coordinates': [9.963222, 49.792707],\n  'time': 1699901697.6027,\n  'battery': 'N/A'},\n {'coordinates': [9.961267, 49.792428],\n  'time': 1699412639.067922,\n  'battery': 'N/A'},\n {'coordinates': [9.963222, 49.792707],\n  'time': 1699901577.599034,\n  'battery': 'N/A'},\n {'coordinates': [9.960232, 49.79244],\n  'time': 1699412519.04355,\n  'battery': 'N/A'},\n {'coordinates': [9.963222, 49.792707],\n  'time': 1699901517.583015,\n  'battery': 'N/A'},\n {'coordinates': [9.960232, 49.792443],\n  'time': 1699412459.035574,\n  'battery': 'N/A'},\n {'coordinates': [9.963222, 49.792707],\n  'time': 1699901397.591642,\n  'battery': 'N/A'},\n {'coordinates': [9.959043, 49.79246],\n  'time': 1699412339.004359,\n  'battery': 'N/A'},\n {'coordinates': [9.963222, 49.792707],\n  'time': 1699901337.593847,\n  'battery': 'N/A'},\n {'coordinates': [9.96143, 49.79224],\n  'time': 1699412278.992114,\n  'battery': 'N/A'},\n {'coordinates': [9.963222, 49.792707],\n  'time': 1699901217.59891,\n  'battery': 'N/A'},\n {'coordinates': [9.960097, 49.792627],\n  'time': 1699412158.978939,\n  'battery': 'N/A'},\n {'coordinates': [9.963222, 49.792707],\n  'time': 1699901157.59209,\n  'battery': 'N/A'},\n {'coordinates': [9.960097, 49.792627],\n  'time': 1699412098.971277,\n  'battery': 'N/A'},\n {'coordinates': [9.962097, 49.793267],\n  'time': 1699901037.598896,\n  'battery': 'N/A'},\n {'coordinates': [9.960188, 49.792523],\n  'time': 1699411978.932956,\n  'battery': 'N/A'},\n {'coordinates': [9.962097, 49.793267],\n  'time': 1699900977.584606,\n  'battery': 'N/A'},\n {'coordinates': [9.961958, 49.792735],\n  'time': 1699411918.926422,\n  'battery': 'N/A'},\n {'coordinates': [9.962657, 49.792927],\n  'time': 1699900857.577387,\n  'battery': 'N/A'},\n {'coordinates': [9.96183, 49.792847],\n  'time': 1699411798.914327,\n  'battery': 'N/A'},\n {'coordinates': [9.962088, 49.792887],\n  'time': 1699900797.618048,\n  'battery': 'N/A'},\n {'coordinates': [9.96183, 49.792848],\n  'time': 1699411738.907216,\n  'battery': 'N/A'},\n {'coordinates': [9.962088, 49.792887],\n  'time': 1699900677.564809,\n  'battery': 'N/A'},\n {'coordinates': [9.960565, 49.792513],\n  'time': 1699411618.874787,\n  'battery': 'N/A'},\n {'coordinates': [9.96266, 49.79282],\n  'time': 1699900617.558728,\n  'battery': 'N/A'},\n {'coordinates': [9.961345, 49.79274],\n  'time': 1699411558.859428,\n  'battery': 'N/A'},\n {'coordinates': [9.962998, 49.792953],\n  'time': 1699900498.548411,\n  'battery': 'N/A'},\n {'coordinates': [9.961715, 49.792788],\n  'time': 1699411438.830658,\n  'battery': 'N/A'},\n {'coordinates': [9.962588, 49.793217],\n  'time': 1699900438.543371,\n  'battery': 'N/A'},\n {'coordinates': [9.961558, 49.792687],\n  'time': 1699411378.816172,\n  'battery': 'N/A'},\n {'coordinates': [9.962447, 49.792687],\n  'time': 1699900318.587174,\n  'battery': 'N/A'},\n {'coordinates': [9.962033, 49.792697],\n  'time': 1699411258.783922,\n  'battery': 'N/A'},\n {'coordinates': [9.962447, 49.792687],\n  'time': 1699900258.533447,\n  'battery': 'N/A'},\n {'coordinates': [9.961538, 49.792913],\n  'time': 1699411198.775227,\n  'battery': 'N/A'},\n {'coordinates': [9.962447, 49.792687],\n  'time': 1699900138.577431,\n  'battery': 'N/A'},\n {'coordinates': [9.959483, 49.79238],\n  'time': 1699411078.718553,\n  'battery': 'N/A'},\n {'coordinates': [9.962447, 49.792687],\n  'time': 1699900078.58908,\n  'battery': 'N/A'},\n {'coordinates': [9.959157, 49.792403],\n  'time': 1699411019.703821,\n  'battery': 'N/A'},\n {'coordinates': [9.962447, 49.792687],\n  'time': 1699899958.57737,\n  'battery': 'N/A'},\n {'coordinates': [9.959048, 49.792648],\n  'time': 1699410899.688396,\n  'battery': 'N/A'},\n {'coordinates': [9.962447, 49.792687],\n  'time': 1699899898.534258,\n  'battery': 'N/A'},\n {'coordinates': [9.960582, 49.792815],\n  'time': 1699410839.678722,\n  'battery': 'N/A'},\n {'coordinates': [9.962447, 49.792687],\n  'time': 1699899778.57018,\n  'battery': 'N/A'},\n {'coordinates': [9.959723, 49.792627],\n  'time': 1699410719.643091,\n  'battery': 'N/A'},\n {'coordinates': [9.962447, 49.792687],\n  'time': 1699899718.527927,\n  'battery': 'N/A'},\n {'coordinates': [9.960155, 49.792627],\n  'time': 1699410659.621558,\n  'battery': 'N/A'},\n {'coordinates': [9.962447, 49.792687],\n  'time': 1699899598.508369,\n  'battery': 'N/A'},\n {'coordinates': [9.96017, 49.792987],\n  'time': 1699410539.588773,\n  'battery': 'N/A'},\n {'coordinates': [9.962447, 49.792687],\n  'time': 1699899538.566281,\n  'battery': 'N/A'},\n {'coordinates': [9.961503, 49.792995],\n  'time': 1699410479.579819,\n  'battery': 'N/A'},\n {'coordinates': [9.962447, 49.792687],\n  'time': 1699899418.570576,\n  'battery': 'N/A'},\n {'coordinates': [9.960948, 49.792753],\n  'time': 1699410359.562514,\n  'battery': 'N/A'},\n {'coordinates': [9.962447, 49.792687],\n  'time': 1699899358.55073,\n  'battery': 'N/A'},\n {'coordinates': [9.960723, 49.792968],\n  'time': 1699410299.55132,\n  'battery': 'N/A'},\n {'coordinates': [9.962447, 49.792687],\n  'time': 1699899238.553435,\n  'battery': 'N/A'},\n {'coordinates': [9.961727, 49.793058],\n  'time': 1699410179.509087,\n  'battery': 'N/A'},\n {'coordinates': [9.962447, 49.792687],\n  'time': 1699899178.495984,\n  'battery': 'N/A'},\n {'coordinates': [9.961137, 49.792882],\n  'time': 1699410119.502332,\n  'battery': 'N/A'},\n {'coordinates': [9.962447, 49.792687],\n  'time': 1699899058.558641,\n  'battery': 'N/A'},\n {'coordinates': [9.961078, 49.792665],\n  'time': 1699409999.466783,\n  'battery': 'N/A'},\n {'coordinates': [9.962447, 49.792687],\n  'time': 1699898998.549408,\n  'battery': 'N/A'},\n {'coordinates': [9.961172, 49.792967],\n  'time': 1699409939.457143,\n  'battery': 'N/A'},\n {'coordinates': [9.962447, 49.792687],\n  'time': 1699898878.539037,\n  'battery': 'N/A'},\n {'coordinates': [9.961018, 49.792858],\n  'time': 1699409819.435427,\n  'battery': 'N/A'},\n {'coordinates': [9.962447, 49.792687],\n  'time': 1699898818.504385,\n  'battery': 'N/A'},\n {'coordinates': [9.961032, 49.792758],\n  'time': 1699409759.429074,\n  'battery': 'N/A'},\n {'coordinates': [9.953868, 49.79464],\n  'time': 1699409639.41963,\n  'battery': 'N/A'},\n {'coordinates': [9.962447, 49.792687],\n  'time': 1699898698.533218,\n  'battery': 'N/A'},\n {'coordinates': [9.962447, 49.792687],\n  'time': 1699898638.494179,\n  'battery': 'N/A'},\n {'coordinates': [9.953868, 49.79464],\n  'time': 1699409579.404716,\n  'battery': 'N/A'},\n {'coordinates': [9.953868, 49.79464],\n  'time': 1699409459.400744,\n  'battery': 'N/A'},\n {'coordinates': [9.962447, 49.792687],\n  'time': 1699898518.542221,\n  'battery': 'N/A'},\n {'coordinates': [9.962447, 49.792687],\n  'time': 1699898458.482077,\n  'battery': 'N/A'},\n {'coordinates': [9.953868, 49.79464],\n  'time': 1699409399.400369,\n  'battery': 'N/A'},\n {'coordinates': [9.954978, 49.794205],\n  'time': 1699409279.383359,\n  'battery': 'N/A'},\n {'coordinates': [9.962447, 49.792687],\n  'time': 1699898338.520059,\n  'battery': 'N/A'},\n {'coordinates': [9.962447, 49.792687],\n  'time': 1699898278.487406,\n  'battery': 'N/A'},\n {'coordinates': [9.954263, 49.794442],\n  'time': 1699409219.388611,\n  'battery': 'N/A'},\n {'coordinates': [9.96205, 49.792927],\n  'time': 1699409099.379055,\n  'battery': 'N/A'},\n {'coordinates': [9.962447, 49.792687],\n  'time': 1699898158.529326,\n  'battery': 'N/A'},\n {'coordinates': [9.962447, 49.792687],\n  'time': 1699898098.479038,\n  'battery': 'N/A'},\n {'coordinates': [9.96205, 49.792927],\n  'time': 1699409039.368165,\n  'battery': 'N/A'},\n {'coordinates': [9.96205, 49.792927],\n  'time': 1699408919.363515,\n  'battery': 'N/A'},\n {'coordinates': [9.962447, 49.792687],\n  'time': 1699897978.464254,\n  'battery': 'N/A'},\n {'coordinates': [9.962447, 49.792687],\n  'time': 1699897918.463155,\n  'battery': 'N/A'},\n {'coordinates': [9.96205, 49.792927],\n  'time': 1699408859.361447,\n  'battery': 'N/A'},\n {'coordinates': [9.96205, 49.792927],\n  'time': 1699408739.339322,\n  'battery': 'N/A'},\n {'coordinates': [9.962447, 49.792687],\n  'time': 1699897798.463089,\n  'battery': 'N/A'},\n {'coordinates': [9.962447, 49.792687],\n  'time': 1699897738.514838,\n  'battery': 'N/A'},\n {'coordinates': [9.96205, 49.792927],\n  'time': 1699408679.339535,\n  'battery': 'N/A'},\n {'coordinates': [9.96205, 49.792927],\n  'time': 1699408559.492751,\n  'battery': 'N/A'},\n {'coordinates': [9.962447, 49.792687],\n  'time': 1699897618.628569,\n  'battery': 'N/A'},\n {'coordinates': [9.962447, 49.792687],\n  'time': 1699897558.500319,\n  'battery': 'N/A'},\n {'coordinates': [9.96205, 49.792927],\n  'time': 1699408499.334271,\n  'battery': 'N/A'},\n {'coordinates': [9.962447, 49.792687],\n  'time': 1699897438.504835,\n  'battery': 'N/A'},\n {'coordinates': [9.96205, 49.792927],\n  'time': 1699408379.327048,\n  'battery': 'N/A'},\n {'coordinates': [9.962447, 49.792687],\n  'time': 1699897378.501586,\n  'battery': 'N/A'},\n {'coordinates': [9.96205, 49.792927],\n  'time': 1699408319.316424,\n  'battery': 'N/A'},\n {'coordinates': [9.962447, 49.792687],\n  'time': 1699897258.443356,\n  'battery': 'N/A'},\n {'coordinates': [9.96205, 49.792927],\n  'time': 1699408199.305676,\n  'battery': 'N/A'},\n {'coordinates': [9.962447, 49.792687],\n  'time': 1699897198.452538,\n  'battery': 'N/A'},\n {'coordinates': [9.96205, 49.792927],\n  'time': 1699408139.302383,\n  'battery': 'N/A'},\n {'coordinates': [9.96205, 49.792927],\n  'time': 1699408019.293139,\n  'battery': 'N/A'},\n {'coordinates': [9.962447, 49.792687],\n  'time': 1699897078.508429,\n  'battery': 'N/A'},\n {'coordinates': [9.962447, 49.792687],\n  'time': 1699897018.454468,\n  'battery': 'N/A'},\n {'coordinates': [9.96205, 49.792927],\n  'time': 1699407959.293668,\n  'battery': 'N/A'},\n {'coordinates': [9.96205, 49.792927],\n  'time': 1699407839.283148,\n  'battery': 'N/A'},\n {'coordinates': [9.962027, 49.792718],\n  'time': 1699896898.499418,\n  'battery': 'N/A'},\n {'coordinates': [9.963078, 49.79284],\n  'time': 1699896838.458966,\n  'battery': 'N/A'},\n {'coordinates': [9.96205, 49.792927],\n  'time': 1699407779.279539,\n  'battery': 'N/A'},\n {'coordinates': [9.96215, 49.792807],\n  'time': 1699896718.44704,\n  'battery': 'N/A'},\n {'coordinates': [9.96205, 49.792927],\n  'time': 1699407659.267132,\n  'battery': 'N/A'},\n {'coordinates': [9.96215, 49.79281],\n  'time': 1699896658.488509,\n  'battery': 'N/A'},\n {'coordinates': [9.96205, 49.792927],\n  'time': 1699407599.20784,\n  'battery': 'N/A'},\n {'coordinates': [9.96205, 49.792927],\n  'time': 1699407479.259427,\n  'battery': 'N/A'},\n {'coordinates': [9.962483, 49.792818],\n  'time': 1699896538.412803,\n  'battery': 'N/A'},\n {'coordinates': [9.962343, 49.792798],\n  'time': 1699896478.408303,\n  'battery': 'N/A'},\n {'coordinates': [9.96205, 49.792927],\n  'time': 1699407419.24797,\n  'battery': 'N/A'},\n {'coordinates': [9.96205, 49.792927],\n  'time': 1699407299.246031,\n  'battery': 'N/A'},\n {'coordinates': [9.962435, 49.792815],\n  'time': 1699896358.453068,\n  'battery': 'N/A'},\n {'coordinates': [9.962077, 49.79293],\n  'time': 1699896298.392351,\n  'battery': 'N/A'},\n {'coordinates': [9.96205, 49.792927],\n  'time': 1699407239.242781,\n  'battery': 'N/A'},\n {'coordinates': [9.96205, 49.792927],\n  'time': 1699407119.224031,\n  'battery': 'N/A'},\n {'coordinates': [9.96271, 49.792968],\n  'time': 1699896178.387127,\n  'battery': 'N/A'},\n {'coordinates': [9.96147, 49.792847],\n  'time': 1699896118.436169,\n  'battery': 'N/A'},\n {'coordinates': [9.96205, 49.792927],\n  'time': 1699407059.228134,\n  'battery': 'N/A'},\n {'coordinates': [9.96205, 49.792927],\n  'time': 1699406939.217727,\n  'battery': 'N/A'},\n {'coordinates': [9.962362, 49.792883],\n  'time': 1699895998.375587,\n  'battery': 'N/A'},\n {'coordinates': [9.962102, 49.792783],\n  'time': 1699895938.37606,\n  'battery': 'N/A'},\n {'coordinates': [9.96205, 49.792927],\n  'time': 1699406879.216894,\n  'battery': 'N/A'},\n {'coordinates': [9.96205, 49.792927],\n  'time': 1699406759.200352,\n  'battery': 'N/A'},\n {'coordinates': [9.96212, 49.792843],\n  'time': 1699895818.370378,\n  'battery': 'N/A'},\n {'coordinates': [9.962682, 49.792873],\n  'time': 1699895758.353505,\n  'battery': 'N/A'},\n {'coordinates': [9.96205, 49.792927],\n  'time': 1699406699.199924,\n  'battery': 'N/A'},\n {'coordinates': [9.96205, 49.792927],\n  'time': 1699406579.183804,\n  'battery': 'N/A'},\n {'coordinates': [9.962202, 49.79282],\n  'time': 1699895638.350315,\n  'battery': 'N/A'},\n {'coordinates': [9.962405, 49.792885],\n  'time': 1699895578.333965,\n  'battery': 'N/A'},\n {'coordinates': [9.96205, 49.792927],\n  'time': 1699406519.192095,\n  'battery': 'N/A'},\n {'coordinates': [9.96205, 49.792927],\n  'time': 1699406399.184522,\n  'battery': 'N/A'},\n {'coordinates': [9.962467, 49.792782],\n  'time': 1699895458.320903,\n  'battery': 'N/A'},\n {'coordinates': [9.96205, 49.792927],\n  'time': 1699406339.170894,\n  'battery': 'N/A'},\n {'coordinates': [9.961987, 49.792737],\n  'time': 1699895398.305617,\n  'battery': 'N/A'},\n {'coordinates': [9.96205, 49.792927],\n  'time': 1699406219.162787,\n  'battery': 'N/A'},\n {'coordinates': [9.962488, 49.792842],\n  'time': 1699895278.342696,\n  'battery': 'N/A'},\n {'coordinates': [9.962742, 49.79296],\n  'time': 1699895218.284169,\n  'battery': 'N/A'},\n {'coordinates': [9.96276, 49.79264],\n  'time': 1699406159.159064,\n  'battery': 'N/A'},\n {'coordinates': [9.963423, 49.79262],\n  'time': 1699406039.136213,\n  'battery': 'N/A'},\n {'coordinates': [9.962535, 49.792903],\n  'time': 1699895098.275883,\n  'battery': 'N/A'},\n {'coordinates': [9.963595, 49.79251],\n  'time': 1699405979.137586,\n  'battery': 'N/A'},\n {'coordinates': [9.962465, 49.792797],\n  'time': 1699895038.284995,\n  'battery': 'N/A'},\n {'coordinates': [9.963422, 49.792437],\n  'time': 1699405859.123366,\n  'battery': 'N/A'},\n {'coordinates': [9.962283, 49.792837],\n  'time': 1699894918.255091,\n  'battery': 'N/A'},\n {'coordinates': [9.962115, 49.79288],\n  'time': 1699894858.273266,\n  'battery': 'N/A'},\n {'coordinates': [9.962918, 49.792678],\n  'time': 1699405799.103931,\n  'battery': 'N/A'},\n {'coordinates': [9.962705, 49.792952],\n  'time': 1699405679.081649,\n  'battery': 'N/A'},\n {'coordinates': [9.962115, 49.792877],\n  'time': 1699894738.262075,\n  'battery': 'N/A'},\n {'coordinates': [9.962627, 49.792988],\n  'time': 1699894678.28063,\n  'battery': 'N/A'},\n {'coordinates': [9.96398, 49.792288],\n  'time': 1699405619.086782,\n  'battery': 'N/A'},\n {'coordinates': [9.959378, 49.793353],\n  'time': 1699405499.076006,\n  'battery': 'N/A'},\n {'coordinates': [9.962802, 49.792973],\n  'time': 1699894558.228305,\n  'battery': 'N/A'},\n {'coordinates': [9.959378, 49.793353],\n  'time': 1699405439.016185,\n  'battery': 'N/A'},\n {'coordinates': [9.963137, 49.7929],\n  'time': 1699894498.214686,\n  'battery': 'N/A'},\n {'coordinates': [9.959333, 49.793345],\n  'time': 1699405319.058145,\n  'battery': 'N/A'},\n {'coordinates': [9.962728, 49.792833],\n  'time': 1699894378.251783,\n  'battery': 'N/A'},\n {'coordinates': [9.962173, 49.792913],\n  'time': 1699405259.067379,\n  'battery': 'N/A'},\n {'coordinates': [9.962728, 49.792828],\n  'time': 1699894318.19644,\n  'battery': 'N/A'},\n {'coordinates': [9.962173, 49.792913],\n  'time': 1699405139.050164,\n  'battery': 'N/A'},\n {'coordinates': [9.962262, 49.792893],\n  'time': 1699894198.237569,\n  'battery': 'N/A'},\n {'coordinates': [9.962173, 49.792913],\n  'time': 1699405079.044492,\n  'battery': 'N/A'},\n {'coordinates': [9.962803, 49.79304],\n  'time': 1699894138.179029,\n  'battery': 'N/A'},\n {'coordinates': [9.962173, 49.792913],\n  'time': 1699404959.037831,\n  'battery': 'N/A'},\n {'coordinates': [9.962752, 49.792737],\n  'time': 1699894018.163573,\n  'battery': 'N/A'},\n {'coordinates': [9.962173, 49.792913],\n  'time': 1699404899.043583,\n  'battery': 'N/A'},\n {'coordinates': [9.962403, 49.792813],\n  'time': 1699893958.193764,\n  'battery': 'N/A'},\n {'coordinates': [9.962173, 49.792913],\n  'time': 1699404780.026917,\n  'battery': 'N/A'},\n {'coordinates': [9.962403, 49.792813],\n  'time': 1699893838.146875,\n  'battery': 'N/A'},\n {'coordinates': [9.962173, 49.792913],\n  'time': 1699404719.968418,\n  'battery': 'N/A'},\n {'coordinates': [9.962142, 49.79284],\n  'time': 1699893778.18487,\n  'battery': 'N/A'},\n {'coordinates': [9.962173, 49.792913],\n  'time': 1699404600.017781,\n  'battery': 'N/A'},\n {'coordinates': [9.962145, 49.79288],\n  'time': 1699893658.142263,\n  'battery': 'N/A'},\n {'coordinates': [9.962173, 49.792913],\n  'time': 1699404539.963688,\n  'battery': 'N/A'},\n {'coordinates': [9.962538, 49.79292],\n  'time': 1699893598.168179,\n  'battery': 'N/A'},\n {'coordinates': [9.962378, 49.792833],\n  'time': 1699893478.116612,\n  'battery': 'N/A'},\n {'coordinates': [9.962173, 49.792913],\n  'time': 1699404419.999412,\n  'battery': 'N/A'},\n {'coordinates': [9.962173, 49.792913],\n  'time': 1699404360.003051,\n  'battery': 'N/A'},\n {'coordinates': [9.971883, 49.793353],\n  'time': 1699893418.131997,\n  'battery': 'N/A'},\n {'coordinates': [9.971883, 49.793353],\n  'time': 1699893298.127973,\n  'battery': 'N/A'},\n {'coordinates': [9.962173, 49.792913],\n  'time': 1699404239.946205,\n  'battery': 'N/A'},\n {'coordinates': [9.971883, 49.793353],\n  'time': 1699893238.139637,\n  'battery': 'N/A'},\n {'coordinates': [9.962173, 49.792913],\n  'time': 1699404179.982828,\n  'battery': 'N/A'},\n {'coordinates': [9.962173, 49.792913],\n  'time': 1699404059.979668,\n  'battery': 'N/A'},\n {'coordinates': [9.971883, 49.793353],\n  'time': 1699893118.121534,\n  'battery': 'N/A'},\n {'coordinates': [9.971883, 49.793353],\n  'time': 1699893058.10704,\n  'battery': 'N/A'},\n {'coordinates': [9.962173, 49.792913],\n  'time': 1699403999.981218,\n  'battery': 'N/A'},\n {'coordinates': [9.962173, 49.792913],\n  'time': 1699403879.964836,\n  'battery': 'N/A'},\n {'coordinates': [9.971883, 49.793353],\n  'time': 1699892938.120463,\n  'battery': 'N/A'},\n {'coordinates': [9.962173, 49.792913],\n  'time': 1699403819.970376,\n  'battery': 'N/A'},\n {'coordinates': [9.971883, 49.793353],\n  'time': 1699892878.100978,\n  'battery': 'N/A'},\n {'coordinates': [9.962173, 49.792913],\n  'time': 1699403699.95314,\n  'battery': 'N/A'},\n {'coordinates': [9.971883, 49.793353],\n  'time': 1699892758.113775,\n  'battery': 'N/A'},\n {'coordinates': [9.971883, 49.793353],\n  'time': 1699892698.121154,\n  'battery': 'N/A'},\n {'coordinates': [9.962173, 49.792913],\n  'time': 1699403639.959571,\n  'battery': 'N/A'},\n {'coordinates': [9.971883, 49.793353],\n  'time': 1699892578.110772,\n  'battery': 'N/A'},\n {'coordinates': [9.962173, 49.792913],\n  'time': 1699403519.946528,\n  'battery': 'N/A'},\n {'coordinates': [9.962173, 49.792913],\n  'time': 1699403459.940719,\n  'battery': 'N/A'},\n {'coordinates': [9.971883, 49.793353],\n  'time': 1699892518.113586,\n  'battery': 'N/A'},\n {'coordinates': [9.962173, 49.792913],\n  'time': 1699403339.931895,\n  'battery': 'N/A'},\n {'coordinates': [9.971883, 49.793353],\n  'time': 1699892398.080477,\n  'battery': 'N/A'},\n {'coordinates': [9.962173, 49.792913],\n  'time': 1699403279.940904,\n  'battery': 'N/A'},\n {'coordinates': [9.971883, 49.793353],\n  'time': 1699892338.080092,\n  'battery': 'N/A'},\n {'coordinates': [9.962173, 49.792913],\n  'time': 1699403159.922755,\n  'battery': 'N/A'},\n {'coordinates': [9.971883, 49.793353],\n  'time': 1699892218.083112,\n  'battery': 'N/A'},\n {'coordinates': [9.962173, 49.792913],\n  'time': 1699403099.923414,\n  'battery': 'N/A'},\n {'coordinates': [9.971883, 49.793353],\n  'time': 1699892158.093424,\n  'battery': 'N/A'},\n {'coordinates': [9.962173, 49.792913],\n  'time': 1699402979.923302,\n  'battery': 'N/A'},\n {'coordinates': [9.971883, 49.793353],\n  'time': 1699892038.073673,\n  'battery': 'N/A'},\n {'coordinates': [9.962173, 49.792913],\n  'time': 1699402919.914571,\n  'battery': 'N/A'},\n {'coordinates': [9.971883, 49.793353],\n  'time': 1699891978.075507,\n  'battery': 'N/A'},\n {'coordinates': [9.962173, 49.792913],\n  'time': 1699402799.887939,\n  'battery': 'N/A'},\n {'coordinates': [9.971883, 49.793353],\n  'time': 1699891858.072879,\n  'battery': 'N/A'},\n {'coordinates': [9.962173, 49.792913],\n  'time': 1699402739.887269,\n  'battery': 'N/A'},\n {'coordinates': [9.971883, 49.793353],\n  'time': 1699891798.063837,\n  'battery': 'N/A'},\n {'coordinates': [9.962173, 49.792913],\n  'time': 1699402619.887189,\n  'battery': 'N/A'},\n {'coordinates': [9.971883, 49.793353],\n  'time': 1699891678.06095,\n  'battery': 'N/A'},\n {'coordinates': [9.962173, 49.792913],\n  'time': 1699402559.878648,\n  'battery': 'N/A'},\n {'coordinates': [9.971883, 49.793353],\n  'time': 1699891618.063044,\n  'battery': 'N/A'},\n {'coordinates': [9.962173, 49.792913],\n  'time': 1699402439.868604,\n  'battery': 'N/A'},\n {'coordinates': [9.971883, 49.793353],\n  'time': 1699891498.056656,\n  'battery': 'N/A'},\n {'coordinates': [9.962173, 49.792913],\n  'time': 1699402379.875038,\n  'battery': 'N/A'},\n {'coordinates': [9.971883, 49.793353],\n  'time': 1699891438.057737,\n  'battery': 'N/A'},\n {'coordinates': [9.962173, 49.792913],\n  'time': 1699402259.863276,\n  'battery': 'N/A'},\n {'coordinates': [9.971883, 49.793353],\n  'time': 1699891318.043632,\n  'battery': 'N/A'},\n {'coordinates': [9.962173, 49.792913],\n  'time': 1699402199.850915,\n  'battery': 'N/A'},\n {'coordinates': [9.971883, 49.793353],\n  'time': 1699891258.051177,\n  'battery': 'N/A'},\n {'coordinates': [9.962173, 49.792913],\n  'time': 1699402079.845114,\n  'battery': 'N/A'},\n {'coordinates': [9.971883, 49.793353],\n  'time': 1699891138.042548,\n  'battery': 'N/A'},\n {'coordinates': [9.962173, 49.792913],\n  'time': 1699402019.839434,\n  'battery': 'N/A'},\n {'coordinates': [9.971883, 49.793353],\n  'time': 1699891078.034126,\n  'battery': 'N/A'},\n {'coordinates': [9.962173, 49.792913],\n  'time': 1699401899.835765,\n  'battery': 'N/A'},\n {'coordinates': [9.971883, 49.793353],\n  'time': 1699890959.029438,\n  'battery': 'N/A'},\n {'coordinates': [9.962173, 49.792913],\n  'time': 1699401839.83995,\n  'battery': 'N/A'},\n {'coordinates': [9.971883, 49.793353],\n  'time': 1699890899.058172,\n  'battery': 'N/A'},\n {'coordinates': [9.971883, 49.793353],\n  'time': 1699890779.024776,\n  'battery': 'N/A'},\n {'coordinates': [9.962173, 49.792913],\n  'time': 1699401719.821458,\n  'battery': 'N/A'},\n {'coordinates': [9.971883, 49.793353],\n  'time': 1699890719.038399,\n  'battery': 'N/A'},\n {'coordinates': [9.962173, 49.792913],\n  'time': 1699401659.82041,\n  'battery': 'N/A'},\n {'coordinates': [9.971883, 49.793353],\n  'time': 1699890599.024804,\n  'battery': 'N/A'},\n {'coordinates': [9.962173, 49.792913],\n  'time': 1699401539.813553,\n  'battery': 'N/A'},\n {'coordinates': [9.971883, 49.793353],\n  'time': 1699890539.028051,\n  'battery': 'N/A'},\n {'coordinates': [9.962173, 49.792913],\n  'time': 1699401479.807817,\n  'battery': 'N/A'},\n {'coordinates': [9.971883, 49.793353],\n  'time': 1699890419.010362,\n  'battery': 'N/A'},\n {'coordinates': [9.962173, 49.792913],\n  'time': 1699401359.801571,\n  'battery': 'N/A'},\n {'coordinates': [9.971883, 49.793353],\n  'time': 1699890359.021125,\n  'battery': 'N/A'},\n {'coordinates': [9.962173, 49.792913],\n  'time': 1699401299.796398,\n  'battery': 'N/A'},\n {'coordinates': [9.96856, 49.794548],\n  'time': 1699890238.99677,\n  'battery': 'N/A'},\n {'coordinates': [9.962173, 49.792913],\n  'time': 1699401179.793161,\n  'battery': 'N/A'},\n {'coordinates': [9.970273, 49.794462],\n  'time': 1699890178.984275,\n  'battery': 'N/A'},\n {'coordinates': [9.962173, 49.792913],\n  'time': 1699401119.796293,\n  'battery': 'N/A'},\n {'coordinates': [9.968987, 49.794708],\n  'time': 1699890058.972913,\n  'battery': 'N/A'},\n {'coordinates': [9.962173, 49.792913],\n  'time': 1699400999.780165,\n  'battery': 'N/A'},\n {'coordinates': [9.9649, 49.7937],\n  'time': 1699889998.964745,\n  'battery': 'N/A'},\n {'coordinates': [9.962173, 49.792913],\n  'time': 1699400939.784305,\n  'battery': 'N/A'},\n {'coordinates': [9.965142, 49.79366],\n  'time': 1699889878.961144,\n  'battery': 'N/A'},\n {'coordinates': [9.962173, 49.792913],\n  'time': 1699400819.739515,\n  'battery': 'N/A'},\n {'coordinates': [9.964363, 49.793282],\n  'time': 1699889818.935441,\n  'battery': 'N/A'},\n {'coordinates': [9.962173, 49.792913],\n  'time': 1699400759.727191,\n  'battery': 'N/A'},\n {'coordinates': [9.964463, 49.79342],\n  'time': 1699889698.914319,\n  'battery': 'N/A'},\n {'coordinates': [9.962173, 49.792913],\n  'time': 1699400639.72258,\n  'battery': 'N/A'},\n {'coordinates': [9.964363, 49.793485],\n  'time': 1699889638.926685,\n  'battery': 'N/A'},\n {'coordinates': [9.962173, 49.792913],\n  'time': 1699400579.71093,\n  'battery': 'N/A'},\n {'coordinates': [9.964652, 49.793352],\n  'time': 1699889518.905996,\n  'battery': 'N/A'},\n {'coordinates': [9.962173, 49.792913],\n  'time': 1699400459.682385,\n  'battery': 'N/A'},\n {'coordinates': [9.964363, 49.79336],\n  'time': 1699889458.886385,\n  'battery': 'N/A'},\n {'coordinates': [9.962173, 49.792913],\n  'time': 1699400399.674985,\n  'battery': 'N/A'},\n {'coordinates': [9.964535, 49.793427],\n  'time': 1699889338.877219,\n  'battery': 'N/A'},\n {'coordinates': [9.962173, 49.792913],\n  'time': 1699400279.668081,\n  'battery': 'N/A'},\n {'coordinates': [9.964512, 49.793438],\n  'time': 1699889278.865223,\n  'battery': 'N/A'},\n {'coordinates': [9.962173, 49.792913],\n  'time': 1699400219.671575,\n  'battery': 'N/A'},\n {'coordinates': [9.964037, 49.793305],\n  'time': 1699889158.860192,\n  'battery': 'N/A'},\n {'coordinates': [9.962173, 49.792913],\n  'time': 1699400099.666975,\n  'battery': 'N/A'},\n {'coordinates': [9.964588, 49.79333],\n  'time': 1699889098.84898,\n  'battery': 'N/A'},\n {'coordinates': [9.962173, 49.792913],\n  'time': 1699400039.655674,\n  'battery': 'N/A'},\n {'coordinates': [9.967078, 49.79316],\n  'time': 1699888978.834494,\n  'battery': 'N/A'},\n {'coordinates': [9.962173, 49.792913],\n  'time': 1699399919.649938,\n  'battery': 'N/A'},\n {'coordinates': [9.963763, 49.793272],\n  'time': 1699888918.818234,\n  'battery': 'N/A'},\n {'coordinates': [9.962173, 49.792913],\n  'time': 1699399859.643647,\n  'battery': 'N/A'},\n {'coordinates': [9.962173, 49.792913],\n  'time': 1699399739.639342,\n  'battery': 'N/A'},\n {'coordinates': [9.964593, 49.79321],\n  'time': 1699888798.808432,\n  'battery': 'N/A'},\n {'coordinates': [9.962173, 49.792913],\n  'time': 1699399679.636933,\n  'battery': 'N/A'},\n {'coordinates': [9.966973, 49.793133],\n  'time': 1699888738.792279,\n  'battery': 'N/A'},\n {'coordinates': [9.962173, 49.792913],\n  'time': 1699399559.627602,\n  'battery': 'N/A'},\n {'coordinates': [9.965962, 49.793368],\n  'time': 1699888618.781208,\n  'battery': 'N/A'},\n {'coordinates': [9.962173, 49.792913],\n  'time': 1699399499.622005,\n  'battery': 'N/A'},\n {'coordinates': [9.965812, 49.793272],\n  'time': 1699888558.768008,\n  'battery': 'N/A'},\n {'coordinates': [9.962173, 49.792913],\n  'time': 1699399379.615003,\n  'battery': 'N/A'},\n {'coordinates': [9.965643, 49.793305],\n  'time': 1699888438.746212,\n  'battery': 'N/A'},\n {'coordinates': [9.962173, 49.792913],\n  'time': 1699399319.620648,\n  'battery': 'N/A'},\n {'coordinates': [9.965285, 49.793225],\n  'time': 1699888378.748282,\n  'battery': 'N/A'},\n {'coordinates': [9.962173, 49.792913],\n  'time': 1699399199.600227,\n  'battery': 'N/A'},\n {'coordinates': [9.965547, 49.793282],\n  'time': 1699888258.721427,\n  'battery': 'N/A'},\n {'coordinates': [9.962173, 49.792913],\n  'time': 1699399139.601502,\n  'battery': 'N/A'},\n {'coordinates': [9.965703, 49.793208],\n  'time': 1699888198.699176,\n  'battery': 'N/A'},\n {'coordinates': [9.962173, 49.792913],\n  'time': 1699399019.538737,\n  'battery': 'N/A'},\n {'coordinates': [9.966988, 49.793218],\n  'time': 1699888078.662609,\n  'battery': 'N/A'},\n {'coordinates': [9.962173, 49.792913],\n  'time': 1699398959.596461,\n  'battery': 'N/A'},\n {'coordinates': [9.966515, 49.793448],\n  'time': 1699888018.671774,\n  'battery': 'N/A'},\n {'coordinates': [9.962173, 49.792913],\n  'time': 1699398839.576583,\n  'battery': 'N/A'},\n {'coordinates': [9.964663, 49.793273],\n  'time': 1699887898.666058,\n  'battery': 'N/A'},\n {'coordinates': [9.962173, 49.792913],\n  'time': 1699398779.584828,\n  'battery': 'N/A'},\n {'coordinates': [9.96571, 49.793263],\n  'time': 1699887838.633479,\n  'battery': 'N/A'},\n {'coordinates': [9.962173, 49.792913],\n  'time': 1699398659.524866,\n  'battery': 'N/A'},\n {'coordinates': [9.966578, 49.793005],\n  'time': 1699887718.631041,\n  'battery': 'N/A'},\n {'coordinates': [9.962173, 49.792913],\n  'time': 1699398599.57347,\n  'battery': 'N/A'},\n {'coordinates': [9.966118, 49.793073],\n  'time': 1699887658.609673,\n  'battery': 'N/A'},\n {'coordinates': [9.962173, 49.792913],\n  'time': 1699398479.562834,\n  'battery': 'N/A'},\n {'coordinates': [9.964922, 49.792988],\n  'time': 1699887538.570163,\n  'battery': 'N/A'},\n {'coordinates': [9.962173, 49.792913],\n  'time': 1699398419.54296,\n  'battery': 'N/A'},\n {'coordinates': [9.964427, 49.79292],\n  'time': 1699887478.576243,\n  'battery': 'N/A'},\n {'coordinates': [9.962173, 49.792913],\n  'time': 1699398299.55061,\n  'battery': 'N/A'},\n {'coordinates': [9.963617, 49.792867],\n  'time': 1699887358.548139,\n  'battery': 'N/A'},\n {'coordinates': [9.962173, 49.792913],\n  'time': 1699398239.548815,\n  'battery': 'N/A'},\n {'coordinates': [9.963318, 49.792877],\n  'time': 1699887298.544034,\n  'battery': 'N/A'},\n {'coordinates': [9.962173, 49.792913],\n  'time': 1699398119.540332,\n  'battery': 'N/A'},\n {'coordinates': [9.963607, 49.792897],\n  'time': 1699887178.548393,\n  'battery': 'N/A'},\n {'coordinates': [9.962173, 49.792913],\n  'time': 1699398059.539141,\n  'battery': 'N/A'},\n {'coordinates': [9.96354, 49.79281],\n  'time': 1699887118.538482,\n  'battery': 'N/A'},\n {'coordinates': [9.962173, 49.792913],\n  'time': 1699397939.523913,\n  'battery': 'N/A'},\n {'coordinates': [9.964795, 49.792983],\n  'time': 1699886998.508611,\n  'battery': 'N/A'},\n {'coordinates': [9.962173, 49.792913],\n  'time': 1699397879.518205,\n  'battery': 'N/A'},\n {'coordinates': [9.964442, 49.792945],\n  'time': 1699886938.511332,\n  'battery': 'N/A'},\n {'coordinates': [9.962173, 49.792913],\n  'time': 1699397759.50622,\n  'battery': 'N/A'},\n {'coordinates': [9.962495, 49.792688],\n  'time': 1699886818.508705,\n  'battery': 'N/A'},\n {'coordinates': [9.962173, 49.792913],\n  'time': 1699397699.496957,\n  'battery': 'N/A'},\n {'coordinates': [9.962178, 49.792618],\n  'time': 1699886758.487886,\n  'battery': 'N/A'},\n {'coordinates': [9.962173, 49.792913],\n  'time': 1699397579.487428,\n  'battery': 'N/A'},\n {'coordinates': [9.961697, 49.792697],\n  'time': 1699886638.47847,\n  'battery': 'N/A'},\n {'coordinates': [9.962173, 49.792913],\n  'time': 1699397519.496856,\n  'battery': 'N/A'},\n {'coordinates': [9.962115, 49.792752],\n  'time': 1699886578.479289,\n  'battery': 'N/A'},\n {'coordinates': [9.962173, 49.792913],\n  'time': 1699397399.476999,\n  'battery': 'N/A'},\n {'coordinates': [9.962895, 49.79277],\n  'time': 1699886458.457883,\n  'battery': 'N/A'},\n {'coordinates': [9.962173, 49.792913],\n  'time': 1699397339.484814,\n  'battery': 'N/A'},\n {'coordinates': [9.962507, 49.792778],\n  'time': 1699886398.442545,\n  'battery': 'N/A'},\n {'coordinates': [9.962173, 49.792913],\n  'time': 1699397219.466418,\n  'battery': 'N/A'},\n {'coordinates': [9.964965, 49.793342],\n  'time': 1699886278.432148,\n  'battery': 'N/A'},\n {'coordinates': [9.962173, 49.792913],\n  'time': 1699397159.478831,\n  'battery': 'N/A'},\n {'coordinates': [9.964585, 49.792928],\n  'time': 1699886218.430032,\n  'battery': 'N/A'},\n {'coordinates': [9.962173, 49.792913],\n  'time': 1699397039.456065,\n  'battery': 'N/A'},\n {'coordinates': [9.964773, 49.792998],\n  'time': 1699886098.408411,\n  'battery': 'N/A'},\n {'coordinates': [9.962173, 49.792913],\n  'time': 1699396979.454699,\n  'battery': 'N/A'},\n {'coordinates': [9.964635, 49.792862],\n  'time': 1699886038.407021,\n  'battery': 'N/A'},\n {'coordinates': [9.962173, 49.792913],\n  'time': 1699396859.434793,\n  'battery': 'N/A'},\n {'coordinates': [9.964293, 49.793145],\n  'time': 1699885918.401802,\n  'battery': 'N/A'},\n {'coordinates': [9.962173, 49.792913],\n  'time': 1699396799.439856,\n  'battery': 'N/A'},\n {'coordinates': [9.966362, 49.794477],\n  'time': 1699885858.381529,\n  'battery': 'N/A'},\n {'coordinates': [9.962173, 49.792913],\n  'time': 1699396679.439078,\n  'battery': 'N/A'},\n {'coordinates': [9.965638, 49.793872],\n  'time': 1699885738.379776,\n  'battery': 'N/A'},\n {'coordinates': [9.962173, 49.792913],\n  'time': 1699396620.425489,\n  'battery': 'N/A'},\n {'coordinates': [9.964785, 49.79334],\n  'time': 1699885678.362908,\n  'battery': 'N/A'},\n {'coordinates': [9.962173, 49.792913],\n  'time': 1699396500.405348,\n  'battery': 'N/A'},\n {'coordinates': [9.964305, 49.793082],\n  'time': 1699885558.345181,\n  'battery': 'N/A'},\n {'coordinates': [9.962173, 49.792913],\n  'time': 1699396440.399706,\n  'battery': 'N/A'},\n {'coordinates': [9.964407, 49.793192],\n  'time': 1699885498.344645,\n  'battery': 'N/A'},\n {'coordinates': [9.962173, 49.792913],\n  'time': 1699396320.37521,\n  'battery': 'N/A'},\n {'coordinates': [9.963565, 49.79264],\n  'time': 1699885378.328278,\n  'battery': 'N/A'},\n {'coordinates': [9.962173, 49.792913],\n  'time': 1699396260.374435,\n  'battery': 'N/A'},\n {'coordinates': [9.964078, 49.793258],\n  'time': 1699885318.318176,\n  'battery': 'N/A'},\n {'coordinates': [9.962173, 49.792913],\n  'time': 1699396140.356486,\n  'battery': 'N/A'},\n {'coordinates': [9.964222, 49.793188],\n  'time': 1699885199.313463,\n  'battery': 'N/A'},\n {'coordinates': [9.962173, 49.792913],\n  'time': 1699396080.366625,\n  'battery': 'N/A'},\n {'coordinates': [9.964455, 49.793222],\n  'time': 1699885139.300551,\n  'battery': 'N/A'},\n {'coordinates': [9.964027, 49.793135],\n  'time': 1699885019.278228,\n  'battery': 'N/A'},\n {'coordinates': [9.962173, 49.792913],\n  'time': 1699395960.365042,\n  'battery': 'N/A'},\n {'coordinates': [9.964522, 49.793288],\n  'time': 1699884959.279077,\n  'battery': 'N/A'},\n {'coordinates': [9.962173, 49.792913],\n  'time': 1699395900.346316,\n  'battery': 'N/A'},\n {'coordinates': [9.964355, 49.79311],\n  'time': 1699884839.263774,\n  'battery': 'N/A'},\n {'coordinates': [9.962173, 49.792913],\n  'time': 1699395780.346575,\n  'battery': 'N/A'},\n {'coordinates': [9.96381, 49.792758],\n  'time': 1699884779.256983,\n  'battery': 'N/A'},\n {'coordinates': [9.962173, 49.792913],\n  'time': 1699395720.347928,\n  'battery': 'N/A'},\n {'coordinates': [9.964312, 49.793483],\n  'time': 1699884659.238955,\n  'battery': 'N/A'},\n {'coordinates': [9.962173, 49.792913],\n  'time': 1699395600.323742,\n  'battery': 'N/A'},\n {'coordinates': [9.964475, 49.793348],\n  'time': 1699884599.220948,\n  'battery': 'N/A'},\n {'coordinates': [9.962173, 49.792913],\n  'time': 1699395540.338098,\n  'battery': 'N/A'},\n {'coordinates': [9.963445, 49.792683],\n  'time': 1699884479.207731,\n  'battery': 'N/A'},\n {'coordinates': [9.962173, 49.792913],\n  'time': 1699395420.313094,\n  'battery': 'N/A'},\n {'coordinates': [9.963288, 49.79275],\n  'time': 1699884419.204997,\n  'battery': 'N/A'},\n {'coordinates': [9.962173, 49.792913],\n  'time': 1699395360.360117,\n  'battery': 'N/A'},\n {'coordinates': [9.964005, 49.793015],\n  'time': 1699884299.20509,\n  'battery': 'N/A'},\n {'coordinates': [9.962173, 49.792913],\n  'time': 1699395240.360257,\n  'battery': 'N/A'},\n {'coordinates': [9.96444, 49.79323],\n  'time': 1699884239.198269,\n  'battery': 'N/A'},\n {'coordinates': [9.962173, 49.792913],\n  'time': 1699395180.343586,\n  'battery': 'N/A'},\n {'coordinates': [9.964467, 49.793015],\n  'time': 1699884119.194877,\n  'battery': 'N/A'},\n {'coordinates': [9.962173, 49.792913],\n  'time': 1699395060.310703,\n  'battery': 'N/A'},\n {'coordinates': [9.963557, 49.792762],\n  'time': 1699884059.190173,\n  'battery': 'N/A'},\n {'coordinates': [9.962173, 49.792913],\n  'time': 1699395000.278839,\n  'battery': 'N/A'},\n {'coordinates': [9.963748, 49.792787],\n  'time': 1699883939.151506,\n  'battery': 'N/A'},\n {'coordinates': [9.962173, 49.792913],\n  'time': 1699394880.325823,\n  'battery': 'N/A'},\n {'coordinates': [9.962173, 49.792913],\n  'time': 1699394820.269706,\n  'battery': 'N/A'},\n {'coordinates': [9.963513, 49.792798],\n  'time': 1699883879.140701,\n  'battery': 'N/A'},\n {'coordinates': [9.962173, 49.792913],\n  'time': 1699394700.240838,\n  'battery': 'N/A'},\n {'coordinates': [9.963947, 49.792772],\n  'time': 1699883759.128588,\n  'battery': 'N/A'},\n {'coordinates': [9.962173, 49.792913],\n  'time': 1699394640.230963,\n  'battery': 'N/A'},\n {'coordinates': [9.962385, 49.79264],\n  'time': 1699883699.133448,\n  'battery': 'N/A'},\n {'coordinates': [9.962173, 49.792913],\n  'time': 1699394520.300245,\n  'battery': 'N/A'},\n {'coordinates': [9.962385, 49.79264],\n  'time': 1699883579.128166,\n  'battery': 'N/A'},\n {'coordinates': [9.962173, 49.792913],\n  'time': 1699394460.300685,\n  'battery': 'N/A'},\n {'coordinates': [9.962385, 49.79264],\n  'time': 1699883519.121759,\n  'battery': 'N/A'},\n {'coordinates': [9.962173, 49.792913],\n  'time': 1699394340.188089,\n  'battery': 'N/A'},\n {'coordinates': [9.962385, 49.79264],\n  'time': 1699883399.122006,\n  'battery': 'N/A'},\n {'coordinates': [9.962173, 49.792913],\n  'time': 1699394280.304949,\n  'battery': 'N/A'},\n {'coordinates': [9.962385, 49.79264],\n  'time': 1699883339.116916,\n  'battery': 'N/A'},\n {'coordinates': [9.962173, 49.792913],\n  'time': 1699394160.180827,\n  'battery': 'N/A'},\n {'coordinates': [9.962385, 49.79264],\n  'time': 1699883219.12499,\n  'battery': 'N/A'},\n {'coordinates': [9.962173, 49.792913],\n  'time': 1699394100.280197,\n  'battery': 'N/A'},\n {'coordinates': [9.962385, 49.79264],\n  'time': 1699883159.114167,\n  'battery': 'N/A'},\n {'coordinates': [9.962173, 49.792913],\n  'time': 1699393980.264805,\n  'battery': 'N/A'},\n {'coordinates': [9.962385, 49.79264],\n  'time': 1699883039.119592,\n  'battery': 'N/A'},\n {'coordinates': [9.962173, 49.792913],\n  'time': 1699393920.173344,\n  'battery': 'N/A'},\n {'coordinates': [9.962385, 49.79264],\n  'time': 1699882979.107387,\n  'battery': 'N/A'},\n {'coordinates': [9.962173, 49.792913],\n  'time': 1699393800.144877,\n  'battery': 'N/A'},\n {'coordinates': [9.962385, 49.79264],\n  'time': 1699882859.097393,\n  'battery': 'N/A'},\n {'coordinates': [9.962173, 49.792913],\n  'time': 1699393740.154033,\n  'battery': 'N/A'},\n {'coordinates': [9.962385, 49.79264],\n  'time': 1699882799.110164,\n  'battery': 'N/A'},\n {'coordinates': [9.962173, 49.792913],\n  'time': 1699393620.146267,\n  'battery': 'N/A'},\n {'coordinates': [9.962385, 49.79264],\n  'time': 1699882679.089023,\n  'battery': 'N/A'},\n {'coordinates': [9.962173, 49.792913],\n  'time': 1699393560.13132,\n  'battery': 'N/A'},\n {'coordinates': [9.962385, 49.79264],\n  'time': 1699882619.085519,\n  'battery': 'N/A'},\n {'coordinates': [9.962173, 49.792913],\n  'time': 1699393440.125131,\n  'battery': 'N/A'},\n {'coordinates': [9.962385, 49.79264],\n  'time': 1699882499.091209,\n  'battery': 'N/A'},\n ...]"
     },
     "execution_count": 19,
     "metadata": {},
     "output_type": "execute_result"
    }
   ],
   "source": [
    "import base64\n",
    "from parser.parser_globalsat_lt501e import LT501Parser\n",
    "from dateutil import parser as date_parser\n",
    "\n",
    "# Initialize the parser\n",
    "parser = LT501Parser(debug_level=99)\n",
    "\n",
    "# List to hold the parsed data\n",
    "parsed_data = []\n",
    "\n",
    "for encoded_value, time in all_data:\n",
    "    # Decode the base64 encoded string\n",
    "    decoded_value = base64.b64decode(encoded_value)\n",
    "\n",
    "    # Use the parser to parse the decoded data\n",
    "    parsed_entry = parser.parse_bytes_hex(decoded_value.hex())\n",
    "    if 'lon' in parsed_entry and 'lat' in parsed_entry and 'batt' in parsed_entry:\n",
    "        \n",
    "        # Append the parsed data in the required format\n",
    "        parsed_data.append({\n",
    "            'coordinates': [parsed_entry['lon'], parsed_entry['lat']],\n",
    "            'time': date_parser.isoparse(time).timestamp(),\n",
    "            'battery': parsed_entry['batt'],\n",
    "        })\n",
    "    else:\n",
    "        print(f\"Missing 'lon' or 'lat' or 'batt' in entry: {parsed_entry}\")\n",
    "        continue    \n",
    "    \n",
    "parsed_data"
   ],
   "metadata": {
    "collapsed": false,
    "ExecuteTime": {
     "end_time": "2023-11-27T12:34:18.437268100Z",
     "start_time": "2023-11-27T12:34:18.039493900Z"
    }
   },
   "id": "4eea18ccf3685562"
  },
  {
   "cell_type": "code",
   "execution_count": 17,
   "outputs": [
    {
     "name": "stdout",
     "output_type": "stream",
     "text": [
      "Map has been saved to my_point_animated_map.html.\n"
     ]
    }
   ],
   "source": [
    "from map.plot_gps_history import create_line_geojson_features, create_point_geojson_features\n",
    "import folium\n",
    "from folium.plugins import TimestampedGeoJson\n",
    "\n",
    "start_location = parsed_data[0]['coordinates'].copy().reverse()\n",
    "# Create map object\n",
    "m = folium.Map(location=start_location, zoom_start=11)\n",
    "\n",
    "# Create features\n",
    "features = create_line_geojson_features(parsed_data[:50])\n",
    "\n",
    "# Create a TimestampedGeoJson object and add it to the map\n",
    "TimestampedGeoJson({\n",
    "    'type': 'FeatureCollection',\n",
    "    'features': features,\n",
    "}, period='PT30S',\n",
    "    auto_play=False,\n",
    "    loop=False,\n",
    "    max_speed=1,\n",
    "    loop_button=True,\n",
    "    date_options='YYYY/MM/DD HH:mm:ss',\n",
    "    time_slider_drag_update=True,\n",
    "    add_last_point=True).add_to(m)\n",
    "\n",
    "# Save to an HTML file\n",
    "name = 'my_point_animated_map.html'\n",
    "m.save(name)\n",
    "\n",
    "print(f\"Map has been saved to {name}.\")\n"
   ],
   "metadata": {
    "collapsed": false,
    "ExecuteTime": {
     "end_time": "2023-11-27T12:28:37.745949600Z",
     "start_time": "2023-11-27T12:28:37.708983600Z"
    }
   },
   "id": "c823353c05d3733a"
  },
  {
   "cell_type": "code",
   "execution_count": null,
   "outputs": [],
   "source": [
    "import pydeck as pdk\n",
    "import pandas as pd\n",
    "\n",
    "original_data = parsed_data#[:10]\n",
    "\n",
    "timestamps = [int(item['time']) for item in original_data]\n",
    "coordinates = [item['coordinates'] for item in original_data]\n",
    "\n",
    "cmp_coordinate = coordinates[0]\n",
    "DELTA = 0.001\n",
    "\n",
    "print(len(timestamps))\n",
    "\n",
    "sorted_pairs = []\n",
    "for time, coord in zip(timestamps, coordinates):\n",
    "    sorted_pairs.append((time, coord))\n",
    "\n",
    "sorted_pairs.sort(key=lambda pair: pair[0])\n",
    "timestamps, coordinates = zip(*sorted_pairs)\n",
    "\n",
    "# Converting tuples to lists\n",
    "timestamps = list(timestamps)\n",
    "coordinates = list(coordinates)"
   ],
   "metadata": {
    "collapsed": false,
    "ExecuteTime": {
     "end_time": "2023-11-27T12:23:18.206778200Z",
     "start_time": "2023-11-27T12:23:18.198287700Z"
    }
   },
   "id": "a0c2123499eee73b"
  },
  {
   "cell_type": "code",
   "execution_count": null,
   "outputs": [],
   "source": [
    "filtered_timestamps = []\n",
    "filtered_coordinates = []\n",
    "cmp_coordinate = coordinates[0]\n",
    "\n",
    "for timestamp, coordinate in zip(timestamps, coordinates):\n",
    "    if not (abs(coordinate[0] - cmp_coordinate[0]) <= DELTA and abs(coordinate[1] - cmp_coordinate[1]) <= DELTA):\n",
    "        filtered_timestamps.append(timestamp)\n",
    "        filtered_coordinates.append(coordinate)\n",
    "        cmp_coordinate = coordinate\n",
    "\n",
    "timestamps, coordinates = filtered_timestamps, filtered_coordinates\n",
    "\n",
    "print(len(timestamps))\n",
    "\n",
    "# Since the data is for a single trip, we create a DataFrame with a single entry\n",
    "df = pd.DataFrame({\n",
    "    'coordinates': [coordinates],\n",
    "    'timestamps': [timestamps],\n",
    "    'time_indices': [list(range(len(timestamps)))]\n",
    "})\n",
    "\n",
    "df"
   ],
   "metadata": {
    "collapsed": false,
    "ExecuteTime": {
     "start_time": "2023-11-27T12:23:18.200270600Z"
    }
   },
   "id": "dc6bf5a1ac77c91c"
  },
  {
   "cell_type": "code",
   "execution_count": null,
   "outputs": [],
   "source": [
    "df['timestamps']"
   ],
   "metadata": {
    "collapsed": false,
    "ExecuteTime": {
     "start_time": "2023-11-27T12:23:18.203306700Z"
    }
   },
   "id": "7960d8e72478cc85"
  },
  {
   "cell_type": "code",
   "execution_count": null,
   "outputs": [],
   "source": [
    "timestamps = df['timestamps'][0]\n",
    "timestamps.sort(reverse=False)\n",
    "min_timestamp = timestamps[0]\n",
    "max_timestamp = timestamps[-1]\n",
    "max_index = max(df.time_indices[0])\n",
    "\n",
    "min_timestamp, max_timestamp, max_index"
   ],
   "metadata": {
    "collapsed": false,
    "ExecuteTime": {
     "start_time": "2023-11-27T12:23:18.205303300Z"
    }
   },
   "id": "5bc5daff142ae6e5"
  },
  {
   "cell_type": "code",
   "execution_count": null,
   "outputs": [],
   "source": [
    "df['timestamps'] = df[\"timestamps\"].apply(lambda f: [item - min_timestamp for item in f])\n",
    "df"
   ],
   "metadata": {
    "collapsed": false,
    "ExecuteTime": {
     "start_time": "2023-11-27T12:23:18.207771100Z"
    }
   },
   "id": "13ad757fba9359b2"
  },
  {
   "cell_type": "code",
   "execution_count": null,
   "outputs": [],
   "source": [
    "min(df['timestamps'][0])"
   ],
   "metadata": {
    "collapsed": false,
    "ExecuteTime": {
     "start_time": "2023-11-27T12:23:18.210251900Z"
    }
   },
   "id": "8f1b5a54560daa77"
  },
  {
   "cell_type": "code",
   "execution_count": null,
   "outputs": [],
   "source": [
    "# Create TripsLayer\n",
    "layer = pdk.Layer(\n",
    "    \"TripsLayer\",\n",
    "    df,\n",
    "    get_path='coordinates',\n",
    "    get_timestamps='time_indices',\n",
    "    get_color=[253, 128, 93],\n",
    "    opacity=0.8,\n",
    "    width_min_pixels=5,\n",
    "    rounded=True,\n",
    "    trail_length=max_index/10,\n",
    "    current_time=max_index,\n",
    ")\n",
    "\n",
    "# Set the initial view state\n",
    "view_state = pdk.ViewState(\n",
    "    latitude=original_data[0]['coordinates'][1],\n",
    "    longitude=original_data[0]['coordinates'][0],\n",
    "    zoom=13,\n",
    "    bearing=0,\n",
    "    pitch=45\n",
    ")\n",
    "\n",
    "# Render the deck\n",
    "r = pdk.Deck(layers=[layer], initial_view_state=view_state)\n",
    "r.to_html('trips_layer.html')"
   ],
   "metadata": {
    "collapsed": false,
    "ExecuteTime": {
     "start_time": "2023-11-27T12:23:18.213267400Z"
    }
   },
   "id": "430414ece456f7c5"
  },
  {
   "cell_type": "markdown",
   "source": [
    "# Have a look at the example"
   ],
   "metadata": {
    "collapsed": false
   },
   "id": "6438091cebd7ea11"
  },
  {
   "cell_type": "code",
   "execution_count": null,
   "outputs": [],
   "source": [
    "\"\"\"\n",
    "TripsLayer\n",
    "==========\n",
    "\n",
    "Plot of a single vehicle trip within San Francisco, fading in from the origin.\n",
    "\n",
    "Adapted from a deck.gl documentation example.\n",
    "\"\"\"\n",
    "\n",
    "import pydeck as pdk\n",
    "import pandas as pd\n",
    "\n",
    "TRIPS_LAYER_DATA = \"https://raw.githubusercontent.com/visgl/deck.gl-data/master/website/sf.trips.json\"  # noqa\n",
    "\n",
    "df = pd.read_json(TRIPS_LAYER_DATA)\n",
    "df"
   ],
   "metadata": {
    "collapsed": false,
    "ExecuteTime": {
     "end_time": "2023-11-27T12:23:18.224245600Z",
     "start_time": "2023-11-27T12:23:18.215747800Z"
    }
   },
   "id": "262dc4056000120a"
  },
  {
   "cell_type": "code",
   "execution_count": null,
   "outputs": [],
   "source": [
    "df[\"coordinates\"] = df[\"waypoints\"].apply(lambda f: [item[\"coordinates\"] for item in f])\n",
    "df[\"timestamps\"] = df[\"waypoints\"].apply(lambda f: [item[\"timestamp\"] - 1554772579000 for item in f])\n",
    "\n",
    "df.drop([\"waypoints\"], axis=1, inplace=True)\n",
    "df"
   ],
   "metadata": {
    "collapsed": false,
    "ExecuteTime": {
     "start_time": "2023-11-27T12:23:18.217235300Z"
    }
   },
   "id": "a7e5c04e08d5b496"
  },
  {
   "cell_type": "code",
   "execution_count": null,
   "outputs": [],
   "source": [
    "layer = pdk.Layer(\n",
    "    \"TripsLayer\",\n",
    "    df,\n",
    "    get_path=\"coordinates\",\n",
    "    get_timestamps=\"timestamps\",\n",
    "    get_color=[253, 128, 93],\n",
    "    opacity=0.8,\n",
    "    width_min_pixels=5,\n",
    "    rounded=True,\n",
    "    trail_length=600,\n",
    "    current_time=500,\n",
    ")\n",
    "\n",
    "view_state = pdk.ViewState(latitude=37.7749295, longitude=-122.4194155, zoom=11, bearing=0, pitch=45)\n",
    "\n",
    "# Render\n",
    "r = pdk.Deck(layers=[layer], initial_view_state=view_state)\n",
    "r.to_html(\"example_trips_layer.html\")"
   ],
   "metadata": {
    "collapsed": false,
    "ExecuteTime": {
     "start_time": "2023-11-27T12:23:18.219715900Z"
    }
   },
   "id": "5d6f6c85be44c59f"
  }
 ],
 "metadata": {
  "kernelspec": {
   "name": "python3",
   "language": "python",
   "display_name": "Python 3"
  },
  "language_info": {
   "codemirror_mode": {
    "name": "ipython",
    "version": 2
   },
   "file_extension": ".py",
   "mimetype": "text/x-python",
   "name": "python",
   "nbconvert_exporter": "python",
   "pygments_lexer": "ipython2",
   "version": "2.7.6"
  }
 },
 "nbformat": 4,
 "nbformat_minor": 5
}
